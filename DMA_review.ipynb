{
 "cells": [
  {
   "cell_type": "markdown",
   "metadata": {
    "id": "3gqM9OOF03b-"
   },
   "source": [
    "# Team Details"
   ]
  },
  {
   "cell_type": "markdown",
   "metadata": {
    "id": "YzUGGSdFzyX5"
   },
   "source": [
    "* **Team ID** : 12\n",
    "* **Semester** : 5\n",
    "* **Division** : B\n",
    "* **Department** : CSE"
   ]
  },
  {
   "cell_type": "markdown",
   "metadata": {
    "id": "1Jz37dxi1BjC"
   },
   "source": [
    "# Project Details"
   ]
  },
  {
   "cell_type": "markdown",
   "metadata": {
    "id": "IOQd2Otv1Kn9"
   },
   "source": [
    "\n",
    "\n",
    "*   **Title Id** : 5DMACP06\n",
    "*   **Project Title** : Soft Sensing Prediction\n",
    "\n"
   ]
  },
  {
   "cell_type": "markdown",
   "metadata": {
    "id": "A5ZlUbEM2O52"
   },
   "source": [
    "# Team Member Details"
   ]
  },
  {
   "cell_type": "markdown",
   "metadata": {
    "id": "U3qaiDbv2Ulc"
   },
   "source": [
    "\n",
    "\n",
    "---\n",
    "\n",
    "251 - 01fe19bcs126 - Siri Revant\n",
    "\n",
    "---\n",
    "\n",
    "254 - 01fe19bcs131 - Dhananjay K\n",
    "\n",
    "---\n",
    "\n",
    "256 - 01fe19bcs278 - Leelaprasad P - Leader\n",
    "\n",
    "---\n",
    "\n",
    "267 - 01fe20bcs411 - Shreesh Bhat\n",
    "\n",
    "---\n",
    "\n"
   ]
  },
  {
   "cell_type": "markdown",
   "metadata": {
    "id": "Rt8kQ3uV4uGi"
   },
   "source": [
    "# **Programming**"
   ]
  },
  {
   "cell_type": "markdown",
   "metadata": {
    "id": "-x7ccNUt4zEK"
   },
   "source": [
    "### Importing Modules"
   ]
  },
  {
   "cell_type": "code",
   "execution_count": 17,
   "metadata": {
    "id": "2rx8ksG04xyM"
   },
   "outputs": [
    {
     "name": "stdout",
     "output_type": "stream",
     "text": [
      "Populating the interactive namespace from numpy and matplotlib\n"
     ]
    },
    {
     "name": "stderr",
     "output_type": "stream",
     "text": [
      "E:\\Anaconda\\lib\\site-packages\\IPython\\core\\magics\\pylab.py:159: UserWarning: pylab import has clobbered these variables: ['cm']\n",
      "`%matplotlib` prevents importing * from pylab and numpy\n",
      "  warn(\"pylab import has clobbered these variables: %s\"  % clobbered +\n"
     ]
    }
   ],
   "source": [
    "# To Load Data from numpy files\n",
    "import numpy as np\n",
    "# Converting numpy to CSV\n",
    "import csv\n",
    "# Pandas to read CSV\n",
    "import pandas as pd\n",
    "\n",
    "# For splitting Dataset to train and test\n",
    "from sklearn.model_selection import train_test_split\n",
    "# For Logistic Regression - Learning Model\n",
    "from sklearn.linear_model import LogisticRegression\n",
    "# For Decision Tree Classifier - Learning Model\n",
    "from sklearn.tree import DecisionTreeClassifier\n",
    "\n",
    "\n",
    "# To save and load the model\n",
    "from sklearn import model_selection\n",
    "import pickle\n",
    "\n",
    "# For AUC evaluation metric\n",
    "from sklearn import metrics\n",
    "\n",
    "# FOr KNN classifier\n",
    "\n",
    "import matplotlib.pyplot as plt\n",
    "import seaborn as sns\n",
    "from sklearn.metrics import confusion_matrix\n",
    "from sklearn.metrics import roc_curve\n",
    "from sklearn.metrics import auc\n",
    "import matplotlib.pyplot as plt\n",
    "import tensorflow as tf\n",
    "from tensorflow.keras.models import Sequential\n",
    "from tensorflow.keras.layers import Input, Dense, Dropout\n",
    "%pylab inline"
   ]
  },
  {
   "cell_type": "markdown",
   "metadata": {
    "id": "0l1nmlrZ5w-y"
   },
   "source": [
    "### Reading Input Files"
   ]
  },
  {
   "cell_type": "code",
   "execution_count": null,
   "metadata": {
    "colab": {
     "base_uri": "https://localhost:8080/"
    },
    "id": "LdTBiEcS5vZv",
    "outputId": "f319c988-8d60-44de-efa3-86cf852b2119"
   },
   "outputs": [
    {
     "name": "stdout",
     "output_type": "stream",
     "text": [
      "Started reading Input files...\n",
      "Completed reading Input files...\n"
     ]
    }
   ],
   "source": [
    "print(\"Started reading Input files...\")\n",
    "x_train = np.load('./datasets/X_train.npy')\n",
    "x_val = np.load('./datasets/X_val.npy')\n",
    "x_test = np.load('./datasets/X_test.npy')\n",
    "print(\"Completed reading Input files...\")"
   ]
  },
  {
   "cell_type": "markdown",
   "metadata": {
    "id": "KB__bWfM6HZG"
   },
   "source": [
    "### Reading Output Files"
   ]
  },
  {
   "cell_type": "code",
   "execution_count": null,
   "metadata": {
    "colab": {
     "base_uri": "https://localhost:8080/"
    },
    "id": "CvrndpCO59FC",
    "outputId": "760dba5b-b424-43a5-aa9d-7e1cf0b54726"
   },
   "outputs": [
    {
     "name": "stdout",
     "output_type": "stream",
     "text": [
      "Started reading Output files...\n",
      "Completed reading Input files...\n"
     ]
    }
   ],
   "source": [
    "print(\"Started reading Output files...\")\n",
    "label_train = np.load('./datasets/label_train.npy')\n",
    "label_val = np.load('./datasets/label_val.npy')\n",
    "print(\"Completed reading Input files...\")"
   ]
  },
  {
   "cell_type": "markdown",
   "metadata": {
    "id": "yDynvmuG6Q40"
   },
   "source": [
    "### Creating CSV Files"
   ]
  },
  {
   "cell_type": "code",
   "execution_count": null,
   "metadata": {
    "colab": {
     "base_uri": "https://localhost:8080/"
    },
    "id": "w2DknyrI6Vha",
    "outputId": "86627378-3ca6-4219-f8eb-52122f9fc68e"
   },
   "outputs": [
    {
     "name": "stdout",
     "output_type": "stream",
     "text": [
      "Sample Created\n"
     ]
    }
   ],
   "source": [
    "# Accessing 1 Lakh tuples\n",
    "samples = x_train[:100000]\n",
    "# Finding Length of samples i.e, Number of tuples\n",
    "sample_len = len(samples)\n",
    "#storing number of timesteps and features\n",
    "time_step_len = 2\n",
    "features_len = len(samples[0][0])\n",
    "print(\"Sample Created\")"
   ]
  },
  {
   "cell_type": "code",
   "execution_count": null,
   "metadata": {
    "colab": {
     "base_uri": "https://localhost:8080/"
    },
    "id": "6qf7hyNE6aep",
    "outputId": "f1c1bdc8-8cf4-4bf4-9232-15cc2e67196a"
   },
   "outputs": [
    {
     "name": "stdout",
     "output_type": "stream",
     "text": [
      "100000 2 817\n"
     ]
    }
   ],
   "source": [
    "print(sample_len,time_step_len,features_len)\n",
    "\n",
    "rows = []\n",
    "for i in range(sample_len):\n",
    "  for j in range(time_step_len):\n",
    "    t = [i,j]\n",
    "    # Creating a list for each time-step of sample\n",
    "    t.extend(samples[i][j])\n",
    "    # Appending that list with the output labels\n",
    "    t.extend(label_train[i])\n",
    "    #Rows contain Final List of samples\n",
    "    rows.append(t)"
   ]
  },
  {
   "cell_type": "code",
   "execution_count": null,
   "metadata": {
    "colab": {
     "base_uri": "https://localhost:8080/"
    },
    "id": "Ee-XvvRG7m_L",
    "outputId": "c93f7969-ef26-4ac2-bdf6-37e674cde5bf"
   },
   "outputs": [
    {
     "name": "stdout",
     "output_type": "stream",
     "text": [
      "Creating CSV file\n",
      "CSV file Created\n"
     ]
    }
   ],
   "source": [
    "print(\"Creating CSV file\")\n",
    "# Headings for that CSV\n",
    "heading = ['Sample', 'time_step']\n",
    "# Feature Headings\n",
    "t = list(range(1,818))\n",
    "heading.extend(t)\n",
    "# Label Headings\n",
    "t = list(range(1,23))\n",
    "heading.extend(t)\n",
    "\n",
    "# Path of saving file and filename\n",
    "filename = \"./datasets/csv/x_train.csv\"\n",
    "\n",
    "# Opening file in write mode\n",
    "with open(filename, 'w') as csvfile:\n",
    "    csvwriter = csv.writer(csvfile) \n",
    "    #Write Headings\n",
    "    csvwriter.writerow(heading) \n",
    "    #Write Values\n",
    "    csvwriter.writerows(rows)\n",
    "print(\"CSV file Created\")"
   ]
  },
  {
   "cell_type": "markdown",
   "metadata": {
    "id": "OyCqM6qU9JCf"
   },
   "source": [
    "### Save And Load Model"
   ]
  },
  {
   "cell_type": "code",
   "execution_count": null,
   "metadata": {
    "id": "wO81X8qD8p2E"
   },
   "outputs": [],
   "source": [
    "def saveModel(label,model):\n",
    "  filename = './datasets/model/weights-label-'+ str(label) +'.sav'\n",
    "  # filename = '/content/drive/MyDrive/Course Projects/Project DMA/Data/Junk/weights-label-'+ str(label) +'.sav'\n",
    "  pickle.dump(model, open(filename, 'wb'))"
   ]
  },
  {
   "cell_type": "code",
   "execution_count": null,
   "metadata": {
    "id": "ffx8dqF09TCT"
   },
   "outputs": [],
   "source": [
    "def loadModel(label):\n",
    "  filename = './datsets/model/weights-label-'+ str(label) +'.sav'\n",
    "  return pickle.load(open(filename, 'rb'))"
   ]
  },
  {
   "cell_type": "markdown",
   "metadata": {
    "id": "e0vl_1Ac9bXb"
   },
   "source": [
    "# Training and Testing Data"
   ]
  },
  {
   "cell_type": "markdown",
   "metadata": {
    "id": "v85SJ1SRyGZr"
   },
   "source": [
    "## Model - 1"
   ]
  },
  {
   "cell_type": "markdown",
   "metadata": {
    "id": "Xcrf8i6sFkpn"
   },
   "source": [
    "##### **Training Data**"
   ]
  },
  {
   "cell_type": "markdown",
   "metadata": {
    "id": "Nv3otZnQ9_vI"
   },
   "source": [
    "##### Reading file"
   ]
  },
  {
   "cell_type": "code",
   "execution_count": null,
   "metadata": {
    "colab": {
     "base_uri": "https://localhost:8080/"
    },
    "id": "XT5hlFQF9tl3",
    "outputId": "bc87dd50-f664-4634-838c-fdeba79e26b2"
   },
   "outputs": [
    {
     "name": "stdout",
     "output_type": "stream",
     "text": [
      "Started Reading CSV file\n",
      "Completed Reading CSV file\n"
     ]
    }
   ],
   "source": [
    "print(\"Started Reading CSV file\")\n",
    "# Reading the CSV file\n",
    "x_train = pd.read_csv('./datasets/csv/x_train.csv')\n",
    "print(\"Completed Reading CSV file\")"
   ]
  },
  {
   "cell_type": "code",
   "execution_count": null,
   "metadata": {
    "colab": {
     "base_uri": "https://localhost:8080/",
     "height": 257
    },
    "id": "ElP1fjkj91M8",
    "outputId": "92e51f35-ecef-4a8e-a51d-1c20c159e1c0"
   },
   "outputs": [
    {
     "data": {
      "text/html": [
       "<div>\n",
       "<style scoped>\n",
       "    .dataframe tbody tr th:only-of-type {\n",
       "        vertical-align: middle;\n",
       "    }\n",
       "\n",
       "    .dataframe tbody tr th {\n",
       "        vertical-align: top;\n",
       "    }\n",
       "\n",
       "    .dataframe thead th {\n",
       "        text-align: right;\n",
       "    }\n",
       "</style>\n",
       "<table border=\"1\" class=\"dataframe\">\n",
       "  <thead>\n",
       "    <tr style=\"text-align: right;\">\n",
       "      <th></th>\n",
       "      <th>Sample</th>\n",
       "      <th>time_step</th>\n",
       "      <th>1</th>\n",
       "      <th>2</th>\n",
       "      <th>3</th>\n",
       "      <th>4</th>\n",
       "      <th>5</th>\n",
       "      <th>6</th>\n",
       "      <th>7</th>\n",
       "      <th>8</th>\n",
       "      <th>9</th>\n",
       "      <th>10</th>\n",
       "      <th>11</th>\n",
       "      <th>12</th>\n",
       "      <th>13</th>\n",
       "      <th>14</th>\n",
       "      <th>15</th>\n",
       "      <th>16</th>\n",
       "      <th>17</th>\n",
       "      <th>18</th>\n",
       "      <th>19</th>\n",
       "      <th>20</th>\n",
       "      <th>21</th>\n",
       "      <th>22</th>\n",
       "      <th>23</th>\n",
       "      <th>24</th>\n",
       "      <th>25</th>\n",
       "      <th>26</th>\n",
       "      <th>27</th>\n",
       "      <th>28</th>\n",
       "      <th>29</th>\n",
       "      <th>30</th>\n",
       "      <th>31</th>\n",
       "      <th>32</th>\n",
       "      <th>33</th>\n",
       "      <th>34</th>\n",
       "      <th>35</th>\n",
       "      <th>36</th>\n",
       "      <th>37</th>\n",
       "      <th>38</th>\n",
       "      <th>...</th>\n",
       "      <th>800</th>\n",
       "      <th>801</th>\n",
       "      <th>802</th>\n",
       "      <th>803</th>\n",
       "      <th>804</th>\n",
       "      <th>805</th>\n",
       "      <th>806</th>\n",
       "      <th>807</th>\n",
       "      <th>808</th>\n",
       "      <th>809</th>\n",
       "      <th>810</th>\n",
       "      <th>811</th>\n",
       "      <th>812</th>\n",
       "      <th>813</th>\n",
       "      <th>814</th>\n",
       "      <th>815</th>\n",
       "      <th>816</th>\n",
       "      <th>817</th>\n",
       "      <th>1.1</th>\n",
       "      <th>2.1</th>\n",
       "      <th>3.1</th>\n",
       "      <th>4.1</th>\n",
       "      <th>5.1</th>\n",
       "      <th>6.1</th>\n",
       "      <th>7.1</th>\n",
       "      <th>8.1</th>\n",
       "      <th>9.1</th>\n",
       "      <th>10.1</th>\n",
       "      <th>11.1</th>\n",
       "      <th>12.1</th>\n",
       "      <th>13.1</th>\n",
       "      <th>14.1</th>\n",
       "      <th>15.1</th>\n",
       "      <th>16.1</th>\n",
       "      <th>17.1</th>\n",
       "      <th>18.1</th>\n",
       "      <th>19.1</th>\n",
       "      <th>20.1</th>\n",
       "      <th>21.1</th>\n",
       "      <th>22.1</th>\n",
       "    </tr>\n",
       "  </thead>\n",
       "  <tbody>\n",
       "    <tr>\n",
       "      <th>0</th>\n",
       "      <td>0</td>\n",
       "      <td>0</td>\n",
       "      <td>0.0</td>\n",
       "      <td>0.0</td>\n",
       "      <td>0.0</td>\n",
       "      <td>0.0</td>\n",
       "      <td>0.0</td>\n",
       "      <td>0.0</td>\n",
       "      <td>0.0</td>\n",
       "      <td>0.0</td>\n",
       "      <td>0.0</td>\n",
       "      <td>0.0</td>\n",
       "      <td>0.0</td>\n",
       "      <td>0.0</td>\n",
       "      <td>0.0</td>\n",
       "      <td>0.0</td>\n",
       "      <td>0.0</td>\n",
       "      <td>0.0</td>\n",
       "      <td>0.0</td>\n",
       "      <td>0.0</td>\n",
       "      <td>0.0</td>\n",
       "      <td>0.0</td>\n",
       "      <td>0.0</td>\n",
       "      <td>0.0</td>\n",
       "      <td>0.0</td>\n",
       "      <td>0.0</td>\n",
       "      <td>0.0</td>\n",
       "      <td>0.0</td>\n",
       "      <td>0.0</td>\n",
       "      <td>1.0</td>\n",
       "      <td>0.0</td>\n",
       "      <td>0.0</td>\n",
       "      <td>0.0</td>\n",
       "      <td>0.0</td>\n",
       "      <td>0.0</td>\n",
       "      <td>0.0</td>\n",
       "      <td>0.0</td>\n",
       "      <td>0.0</td>\n",
       "      <td>0.0</td>\n",
       "      <td>0.0</td>\n",
       "      <td>...</td>\n",
       "      <td>0.166667</td>\n",
       "      <td>0.0</td>\n",
       "      <td>0.093656</td>\n",
       "      <td>0.137056</td>\n",
       "      <td>0.040404</td>\n",
       "      <td>0.020833</td>\n",
       "      <td>0.023638</td>\n",
       "      <td>0.020619</td>\n",
       "      <td>1.0</td>\n",
       "      <td>0.428669</td>\n",
       "      <td>0.000000</td>\n",
       "      <td>0.000000</td>\n",
       "      <td>0.000000</td>\n",
       "      <td>0.000000</td>\n",
       "      <td>0.000000</td>\n",
       "      <td>0.000000</td>\n",
       "      <td>0.833333</td>\n",
       "      <td>0.0</td>\n",
       "      <td>0.0</td>\n",
       "      <td>0.0</td>\n",
       "      <td>0.0</td>\n",
       "      <td>0.0</td>\n",
       "      <td>0.0</td>\n",
       "      <td>0.0</td>\n",
       "      <td>0.0</td>\n",
       "      <td>0.0</td>\n",
       "      <td>0.0</td>\n",
       "      <td>0.0</td>\n",
       "      <td>0.0</td>\n",
       "      <td>0.0</td>\n",
       "      <td>0.0</td>\n",
       "      <td>0.0</td>\n",
       "      <td>0.0</td>\n",
       "      <td>0.0</td>\n",
       "      <td>0.0</td>\n",
       "      <td>0.0</td>\n",
       "      <td>0.0</td>\n",
       "      <td>0.0</td>\n",
       "      <td>1.0</td>\n",
       "      <td>0.0</td>\n",
       "    </tr>\n",
       "    <tr>\n",
       "      <th>1</th>\n",
       "      <td>0</td>\n",
       "      <td>1</td>\n",
       "      <td>0.0</td>\n",
       "      <td>0.0</td>\n",
       "      <td>0.0</td>\n",
       "      <td>0.0</td>\n",
       "      <td>0.0</td>\n",
       "      <td>0.0</td>\n",
       "      <td>0.0</td>\n",
       "      <td>0.0</td>\n",
       "      <td>0.0</td>\n",
       "      <td>0.0</td>\n",
       "      <td>0.0</td>\n",
       "      <td>0.0</td>\n",
       "      <td>0.0</td>\n",
       "      <td>0.0</td>\n",
       "      <td>0.0</td>\n",
       "      <td>0.0</td>\n",
       "      <td>0.0</td>\n",
       "      <td>0.0</td>\n",
       "      <td>0.0</td>\n",
       "      <td>0.0</td>\n",
       "      <td>0.0</td>\n",
       "      <td>0.0</td>\n",
       "      <td>0.0</td>\n",
       "      <td>0.0</td>\n",
       "      <td>0.0</td>\n",
       "      <td>0.0</td>\n",
       "      <td>0.0</td>\n",
       "      <td>0.0</td>\n",
       "      <td>0.0</td>\n",
       "      <td>0.0</td>\n",
       "      <td>0.0</td>\n",
       "      <td>0.0</td>\n",
       "      <td>0.0</td>\n",
       "      <td>0.0</td>\n",
       "      <td>0.0</td>\n",
       "      <td>0.0</td>\n",
       "      <td>0.0</td>\n",
       "      <td>0.0</td>\n",
       "      <td>...</td>\n",
       "      <td>0.000000</td>\n",
       "      <td>0.0</td>\n",
       "      <td>0.000000</td>\n",
       "      <td>0.000000</td>\n",
       "      <td>0.000000</td>\n",
       "      <td>0.000000</td>\n",
       "      <td>0.000000</td>\n",
       "      <td>0.000000</td>\n",
       "      <td>0.0</td>\n",
       "      <td>0.000000</td>\n",
       "      <td>0.000000</td>\n",
       "      <td>0.000000</td>\n",
       "      <td>0.000000</td>\n",
       "      <td>0.000000</td>\n",
       "      <td>0.000000</td>\n",
       "      <td>0.000000</td>\n",
       "      <td>0.000000</td>\n",
       "      <td>1.0</td>\n",
       "      <td>0.0</td>\n",
       "      <td>0.0</td>\n",
       "      <td>0.0</td>\n",
       "      <td>0.0</td>\n",
       "      <td>0.0</td>\n",
       "      <td>0.0</td>\n",
       "      <td>0.0</td>\n",
       "      <td>0.0</td>\n",
       "      <td>0.0</td>\n",
       "      <td>0.0</td>\n",
       "      <td>0.0</td>\n",
       "      <td>0.0</td>\n",
       "      <td>0.0</td>\n",
       "      <td>0.0</td>\n",
       "      <td>0.0</td>\n",
       "      <td>0.0</td>\n",
       "      <td>0.0</td>\n",
       "      <td>0.0</td>\n",
       "      <td>0.0</td>\n",
       "      <td>0.0</td>\n",
       "      <td>1.0</td>\n",
       "      <td>0.0</td>\n",
       "    </tr>\n",
       "    <tr>\n",
       "      <th>2</th>\n",
       "      <td>1</td>\n",
       "      <td>0</td>\n",
       "      <td>0.0</td>\n",
       "      <td>0.0</td>\n",
       "      <td>0.0</td>\n",
       "      <td>0.0</td>\n",
       "      <td>0.0</td>\n",
       "      <td>0.0</td>\n",
       "      <td>0.0</td>\n",
       "      <td>0.0</td>\n",
       "      <td>0.0</td>\n",
       "      <td>0.0</td>\n",
       "      <td>0.0</td>\n",
       "      <td>0.0</td>\n",
       "      <td>0.0</td>\n",
       "      <td>0.0</td>\n",
       "      <td>0.0</td>\n",
       "      <td>0.0</td>\n",
       "      <td>0.0</td>\n",
       "      <td>0.0</td>\n",
       "      <td>0.0</td>\n",
       "      <td>0.0</td>\n",
       "      <td>0.0</td>\n",
       "      <td>0.0</td>\n",
       "      <td>0.0</td>\n",
       "      <td>0.0</td>\n",
       "      <td>0.0</td>\n",
       "      <td>0.0</td>\n",
       "      <td>0.0</td>\n",
       "      <td>1.0</td>\n",
       "      <td>0.0</td>\n",
       "      <td>0.0</td>\n",
       "      <td>0.0</td>\n",
       "      <td>0.0</td>\n",
       "      <td>0.0</td>\n",
       "      <td>0.0</td>\n",
       "      <td>0.0</td>\n",
       "      <td>0.0</td>\n",
       "      <td>0.0</td>\n",
       "      <td>0.0</td>\n",
       "      <td>...</td>\n",
       "      <td>0.166667</td>\n",
       "      <td>0.0</td>\n",
       "      <td>1.000000</td>\n",
       "      <td>0.187817</td>\n",
       "      <td>1.000000</td>\n",
       "      <td>0.020833</td>\n",
       "      <td>0.075026</td>\n",
       "      <td>0.072165</td>\n",
       "      <td>1.0</td>\n",
       "      <td>0.000557</td>\n",
       "      <td>0.342661</td>\n",
       "      <td>0.293380</td>\n",
       "      <td>0.444333</td>\n",
       "      <td>0.265162</td>\n",
       "      <td>0.463364</td>\n",
       "      <td>0.460963</td>\n",
       "      <td>0.704678</td>\n",
       "      <td>0.0</td>\n",
       "      <td>0.0</td>\n",
       "      <td>0.0</td>\n",
       "      <td>0.0</td>\n",
       "      <td>0.0</td>\n",
       "      <td>0.0</td>\n",
       "      <td>0.0</td>\n",
       "      <td>0.0</td>\n",
       "      <td>0.0</td>\n",
       "      <td>0.0</td>\n",
       "      <td>0.0</td>\n",
       "      <td>0.0</td>\n",
       "      <td>0.0</td>\n",
       "      <td>0.0</td>\n",
       "      <td>0.0</td>\n",
       "      <td>0.0</td>\n",
       "      <td>0.0</td>\n",
       "      <td>1.0</td>\n",
       "      <td>0.0</td>\n",
       "      <td>0.0</td>\n",
       "      <td>0.0</td>\n",
       "      <td>0.0</td>\n",
       "      <td>0.0</td>\n",
       "    </tr>\n",
       "    <tr>\n",
       "      <th>3</th>\n",
       "      <td>1</td>\n",
       "      <td>1</td>\n",
       "      <td>0.0</td>\n",
       "      <td>0.0</td>\n",
       "      <td>0.0</td>\n",
       "      <td>0.0</td>\n",
       "      <td>0.0</td>\n",
       "      <td>0.0</td>\n",
       "      <td>0.0</td>\n",
       "      <td>0.0</td>\n",
       "      <td>0.0</td>\n",
       "      <td>0.0</td>\n",
       "      <td>0.0</td>\n",
       "      <td>0.0</td>\n",
       "      <td>0.0</td>\n",
       "      <td>0.0</td>\n",
       "      <td>0.0</td>\n",
       "      <td>0.0</td>\n",
       "      <td>0.0</td>\n",
       "      <td>0.0</td>\n",
       "      <td>0.0</td>\n",
       "      <td>0.0</td>\n",
       "      <td>0.0</td>\n",
       "      <td>0.0</td>\n",
       "      <td>0.0</td>\n",
       "      <td>0.0</td>\n",
       "      <td>0.0</td>\n",
       "      <td>0.0</td>\n",
       "      <td>0.0</td>\n",
       "      <td>1.0</td>\n",
       "      <td>0.0</td>\n",
       "      <td>0.0</td>\n",
       "      <td>0.0</td>\n",
       "      <td>0.0</td>\n",
       "      <td>0.0</td>\n",
       "      <td>0.0</td>\n",
       "      <td>0.0</td>\n",
       "      <td>0.0</td>\n",
       "      <td>0.0</td>\n",
       "      <td>0.0</td>\n",
       "      <td>...</td>\n",
       "      <td>0.648454</td>\n",
       "      <td>1.0</td>\n",
       "      <td>1.000000</td>\n",
       "      <td>0.187817</td>\n",
       "      <td>1.000000</td>\n",
       "      <td>0.020833</td>\n",
       "      <td>0.075026</td>\n",
       "      <td>0.072165</td>\n",
       "      <td>1.0</td>\n",
       "      <td>0.000557</td>\n",
       "      <td>0.341336</td>\n",
       "      <td>0.293380</td>\n",
       "      <td>0.418532</td>\n",
       "      <td>0.250007</td>\n",
       "      <td>0.458151</td>\n",
       "      <td>0.455002</td>\n",
       "      <td>0.560137</td>\n",
       "      <td>0.0</td>\n",
       "      <td>0.0</td>\n",
       "      <td>0.0</td>\n",
       "      <td>0.0</td>\n",
       "      <td>0.0</td>\n",
       "      <td>0.0</td>\n",
       "      <td>0.0</td>\n",
       "      <td>0.0</td>\n",
       "      <td>0.0</td>\n",
       "      <td>0.0</td>\n",
       "      <td>0.0</td>\n",
       "      <td>0.0</td>\n",
       "      <td>0.0</td>\n",
       "      <td>0.0</td>\n",
       "      <td>0.0</td>\n",
       "      <td>0.0</td>\n",
       "      <td>0.0</td>\n",
       "      <td>1.0</td>\n",
       "      <td>0.0</td>\n",
       "      <td>0.0</td>\n",
       "      <td>0.0</td>\n",
       "      <td>0.0</td>\n",
       "      <td>0.0</td>\n",
       "    </tr>\n",
       "    <tr>\n",
       "      <th>4</th>\n",
       "      <td>2</td>\n",
       "      <td>0</td>\n",
       "      <td>0.0</td>\n",
       "      <td>0.0</td>\n",
       "      <td>0.0</td>\n",
       "      <td>0.0</td>\n",
       "      <td>0.0</td>\n",
       "      <td>0.0</td>\n",
       "      <td>0.0</td>\n",
       "      <td>0.0</td>\n",
       "      <td>0.0</td>\n",
       "      <td>0.0</td>\n",
       "      <td>0.0</td>\n",
       "      <td>0.0</td>\n",
       "      <td>0.0</td>\n",
       "      <td>0.0</td>\n",
       "      <td>0.0</td>\n",
       "      <td>0.0</td>\n",
       "      <td>0.0</td>\n",
       "      <td>0.0</td>\n",
       "      <td>0.0</td>\n",
       "      <td>0.0</td>\n",
       "      <td>0.0</td>\n",
       "      <td>0.0</td>\n",
       "      <td>0.0</td>\n",
       "      <td>0.0</td>\n",
       "      <td>0.0</td>\n",
       "      <td>0.0</td>\n",
       "      <td>0.0</td>\n",
       "      <td>1.0</td>\n",
       "      <td>0.0</td>\n",
       "      <td>0.0</td>\n",
       "      <td>0.0</td>\n",
       "      <td>0.0</td>\n",
       "      <td>0.0</td>\n",
       "      <td>0.0</td>\n",
       "      <td>0.0</td>\n",
       "      <td>0.0</td>\n",
       "      <td>0.0</td>\n",
       "      <td>0.0</td>\n",
       "      <td>...</td>\n",
       "      <td>0.166667</td>\n",
       "      <td>0.0</td>\n",
       "      <td>0.093656</td>\n",
       "      <td>0.137056</td>\n",
       "      <td>0.040404</td>\n",
       "      <td>0.010417</td>\n",
       "      <td>0.023638</td>\n",
       "      <td>0.020619</td>\n",
       "      <td>1.0</td>\n",
       "      <td>0.146608</td>\n",
       "      <td>0.385084</td>\n",
       "      <td>0.023991</td>\n",
       "      <td>0.204508</td>\n",
       "      <td>0.142721</td>\n",
       "      <td>0.104954</td>\n",
       "      <td>0.056231</td>\n",
       "      <td>0.833333</td>\n",
       "      <td>0.0</td>\n",
       "      <td>0.0</td>\n",
       "      <td>0.0</td>\n",
       "      <td>0.0</td>\n",
       "      <td>0.0</td>\n",
       "      <td>0.0</td>\n",
       "      <td>0.0</td>\n",
       "      <td>0.0</td>\n",
       "      <td>0.0</td>\n",
       "      <td>0.0</td>\n",
       "      <td>0.0</td>\n",
       "      <td>0.0</td>\n",
       "      <td>0.0</td>\n",
       "      <td>0.0</td>\n",
       "      <td>0.0</td>\n",
       "      <td>0.0</td>\n",
       "      <td>0.0</td>\n",
       "      <td>1.0</td>\n",
       "      <td>0.0</td>\n",
       "      <td>0.0</td>\n",
       "      <td>0.0</td>\n",
       "      <td>0.0</td>\n",
       "      <td>0.0</td>\n",
       "    </tr>\n",
       "  </tbody>\n",
       "</table>\n",
       "<p>5 rows × 841 columns</p>\n",
       "</div>"
      ],
      "text/plain": [
       "   Sample  time_step    1    2    3    4  ...  17.1  18.1  19.1  20.1  21.1  22.1\n",
       "0       0          0  0.0  0.0  0.0  0.0  ...   0.0   0.0   0.0   0.0   1.0   0.0\n",
       "1       0          1  0.0  0.0  0.0  0.0  ...   0.0   0.0   0.0   0.0   1.0   0.0\n",
       "2       1          0  0.0  0.0  0.0  0.0  ...   1.0   0.0   0.0   0.0   0.0   0.0\n",
       "3       1          1  0.0  0.0  0.0  0.0  ...   1.0   0.0   0.0   0.0   0.0   0.0\n",
       "4       2          0  0.0  0.0  0.0  0.0  ...   1.0   0.0   0.0   0.0   0.0   0.0\n",
       "\n",
       "[5 rows x 841 columns]"
      ]
     },
     "execution_count": 8,
     "metadata": {},
     "output_type": "execute_result"
    }
   ],
   "source": [
    "x_train.head()"
   ]
  },
  {
   "cell_type": "code",
   "execution_count": null,
   "metadata": {
    "colab": {
     "base_uri": "https://localhost:8080/"
    },
    "id": "drqaTqQr-VSy",
    "outputId": "85f263e3-b96b-4baa-ea17-ec29cf96562c"
   },
   "outputs": [
    {
     "data": {
      "text/plain": [
       "Index(['Sample', 'time_step', '1', '2', '3', '4', '5', '6', '7', '8',\n",
       "       ...\n",
       "       '13.1', '14.1', '15.1', '16.1', '17.1', '18.1', '19.1', '20.1', '21.1',\n",
       "       '22.1'],\n",
       "      dtype='object', length=841)"
      ]
     },
     "execution_count": 9,
     "metadata": {},
     "output_type": "execute_result"
    }
   ],
   "source": [
    "# Storing all column names in variable column\n",
    "col = x_train.columns\n",
    "col"
   ]
  },
  {
   "cell_type": "code",
   "execution_count": null,
   "metadata": {
    "colab": {
     "base_uri": "https://localhost:8080/"
    },
    "id": "5OLI-deO-b7u",
    "outputId": "6e776c0c-65ad-4478-812f-882c151a3b5c"
   },
   "outputs": [
    {
     "data": {
      "text/plain": [
       "Index(['Sample', 'time_step', '1', '2', '3', '4', '5', '6', '7', '8',\n",
       "       ...\n",
       "       '808', '809', '810', '811', '812', '813', '814', '815', '816', '817'],\n",
       "      dtype='object', length=819)"
      ]
     },
     "execution_count": 10,
     "metadata": {},
     "output_type": "execute_result"
    }
   ],
   "source": [
    "# Storing Feature columns excluding last 22 label columns\n",
    "feat_col = col[:-22]\n",
    "feat_col"
   ]
  },
  {
   "cell_type": "markdown",
   "metadata": {
    "id": "iXKb8bsN-OjE"
   },
   "source": [
    "##### Training"
   ]
  },
  {
   "cell_type": "code",
   "execution_count": null,
   "metadata": {
    "id": "P0Ob26Rn98yO"
   },
   "outputs": [],
   "source": [
    "# Warning....!\n",
    "\n",
    "predictiedScore = []\n",
    "\n",
    "# Creates Learning Models - for 22 labels\n",
    "def train():\n",
    "  for i in range(-22,0,1):\n",
    "\n",
    "    # Target Label - i.e, Predicting Label\n",
    "    target = col[i]\n",
    "\n",
    "      print(\"Started Creating Learning Model for Label : \",23+i)\n",
    "\n",
    "      # Train Dataset: Used to fit the machine learning model.\n",
    "      # Test Dataset: Used to evaluate the fit machine learning model.\n",
    "      \n",
    "      # Parameters\n",
    "      #   * x_train[feat_col] - Passing all columns except labels\n",
    "      #   * x_train[target] - Passing target column i.e, label that is to be predicted\n",
    "      #   * test_size(0.2) - divides the sample of 20% test and 80% train\n",
    "\n",
    "      X_train, X_test, y_train, y_test = train_test_split(x_train[feat_col],x_train[target],test_size=0.2)\n",
    "      \n",
    "      # Creating Instance of Model LogisticRegression\n",
    "      model = LogisticRegression()\n",
    "\n",
    "      # Creating the Learning model - Training\n",
    "      model.fit(X_train,y_train)\n",
    "\n",
    "      # Saving the model to device\n",
    "      saveModel(23+i,model)\n",
    "\n",
    "      # Scores are Predicted and stored in list predictedScore\n",
    "      predictedScore.append(model.score(X_test,y_test))\n",
    "\n",
    "      print(\"Model Completed\")\n"
   ]
  },
  {
   "cell_type": "code",
   "execution_count": null,
   "metadata": {
    "id": "Ua7QNWjV-bav"
   },
   "outputs": [],
   "source": [
    "models = []\n",
    "\n",
    "# Loading the models from device\n",
    "def loadModels():\n",
    "\n",
    "  # For 22 - Labels models are loaded\n",
    "  \n",
    "      model = loadModel(i)\n",
    "      # Each model is appended to models\n",
    "      models.append(model)"
   ]
  },
  {
   "cell_type": "code",
   "execution_count": null,
   "metadata": {
    "id": "nFLf7NjaCKXy"
   },
   "outputs": [],
   "source": [
    "predictedScore = []\n",
    "\n",
    "def predictScore():\n",
    "  t = 0\n",
    "  for i in range(-22,0,1):\n",
    "    target = col[-1*i]\n",
    "    if(23+i==9 or 23+i==10 or 23+i==21):\n",
    "      continue\n",
    "    else:\n",
    "      print(\"Predicting Score for -\",23+i)\n",
    "      X_train, X_test, y_train, y_test = train_test_split(x_train[feat_col],x_train[target],test_size=0.1)\n",
    "      predictedScore.append(models[t].score(X_test,y_test))\n",
    "      t+=1\n",
    "      print(\"Prediction Completed\")"
   ]
  },
  {
   "cell_type": "code",
   "execution_count": null,
   "metadata": {
    "colab": {
     "base_uri": "https://localhost:8080/"
    },
    "id": "s9ScvQ2kc7z2",
    "outputId": "051f65f7-f9ef-452d-cb09-2fbf48f0965d"
   },
   "outputs": [
    {
     "name": "stdout",
     "output_type": "stream",
     "text": [
      "Started Creating Learning Model for Label :  1\n"
     ]
    },
    {
     "name": "stderr",
     "output_type": "stream",
     "text": [
      "/usr/local/lib/python3.7/dist-packages/sklearn/linear_model/_logistic.py:940: ConvergenceWarning: lbfgs failed to converge (status=1):\n",
      "STOP: TOTAL NO. of ITERATIONS REACHED LIMIT.\n",
      "\n",
      "Increase the number of iterations (max_iter) or scale the data as shown in:\n",
      "    https://scikit-learn.org/stable/modules/preprocessing.html\n",
      "Please also refer to the documentation for alternative solver options:\n",
      "    https://scikit-learn.org/stable/modules/linear_model.html#logistic-regression\n",
      "  extra_warning_msg=_LOGISTIC_SOLVER_CONVERGENCE_MSG)\n"
     ]
    },
    {
     "name": "stdout",
     "output_type": "stream",
     "text": [
      "Model Completed\n",
      "Started Creating Learning Model for Label :  2\n",
      "Model Completed\n",
      "Started Creating Learning Model for Label :  3\n"
     ]
    },
    {
     "name": "stderr",
     "output_type": "stream",
     "text": [
      "/usr/local/lib/python3.7/dist-packages/sklearn/linear_model/_logistic.py:940: ConvergenceWarning: lbfgs failed to converge (status=1):\n",
      "STOP: TOTAL NO. of ITERATIONS REACHED LIMIT.\n",
      "\n",
      "Increase the number of iterations (max_iter) or scale the data as shown in:\n",
      "    https://scikit-learn.org/stable/modules/preprocessing.html\n",
      "Please also refer to the documentation for alternative solver options:\n",
      "    https://scikit-learn.org/stable/modules/linear_model.html#logistic-regression\n",
      "  extra_warning_msg=_LOGISTIC_SOLVER_CONVERGENCE_MSG)\n"
     ]
    },
    {
     "name": "stdout",
     "output_type": "stream",
     "text": [
      "Model Completed\n",
      "Started Creating Learning Model for Label :  4\n"
     ]
    },
    {
     "name": "stderr",
     "output_type": "stream",
     "text": [
      "/usr/local/lib/python3.7/dist-packages/sklearn/linear_model/_logistic.py:940: ConvergenceWarning: lbfgs failed to converge (status=1):\n",
      "STOP: TOTAL NO. of ITERATIONS REACHED LIMIT.\n",
      "\n",
      "Increase the number of iterations (max_iter) or scale the data as shown in:\n",
      "    https://scikit-learn.org/stable/modules/preprocessing.html\n",
      "Please also refer to the documentation for alternative solver options:\n",
      "    https://scikit-learn.org/stable/modules/linear_model.html#logistic-regression\n",
      "  extra_warning_msg=_LOGISTIC_SOLVER_CONVERGENCE_MSG)\n"
     ]
    },
    {
     "name": "stdout",
     "output_type": "stream",
     "text": [
      "Model Completed\n",
      "Started Creating Learning Model for Label :  5\n"
     ]
    },
    {
     "name": "stderr",
     "output_type": "stream",
     "text": [
      "/usr/local/lib/python3.7/dist-packages/sklearn/linear_model/_logistic.py:940: ConvergenceWarning: lbfgs failed to converge (status=1):\n",
      "STOP: TOTAL NO. of ITERATIONS REACHED LIMIT.\n",
      "\n",
      "Increase the number of iterations (max_iter) or scale the data as shown in:\n",
      "    https://scikit-learn.org/stable/modules/preprocessing.html\n",
      "Please also refer to the documentation for alternative solver options:\n",
      "    https://scikit-learn.org/stable/modules/linear_model.html#logistic-regression\n",
      "  extra_warning_msg=_LOGISTIC_SOLVER_CONVERGENCE_MSG)\n"
     ]
    },
    {
     "name": "stdout",
     "output_type": "stream",
     "text": [
      "Model Completed\n",
      "Started Creating Learning Model for Label :  6\n"
     ]
    },
    {
     "name": "stderr",
     "output_type": "stream",
     "text": [
      "/usr/local/lib/python3.7/dist-packages/sklearn/linear_model/_logistic.py:940: ConvergenceWarning: lbfgs failed to converge (status=1):\n",
      "STOP: TOTAL NO. of ITERATIONS REACHED LIMIT.\n",
      "\n",
      "Increase the number of iterations (max_iter) or scale the data as shown in:\n",
      "    https://scikit-learn.org/stable/modules/preprocessing.html\n",
      "Please also refer to the documentation for alternative solver options:\n",
      "    https://scikit-learn.org/stable/modules/linear_model.html#logistic-regression\n",
      "  extra_warning_msg=_LOGISTIC_SOLVER_CONVERGENCE_MSG)\n"
     ]
    },
    {
     "name": "stdout",
     "output_type": "stream",
     "text": [
      "Model Completed\n",
      "Started Creating Learning Model for Label :  7\n"
     ]
    },
    {
     "name": "stderr",
     "output_type": "stream",
     "text": [
      "/usr/local/lib/python3.7/dist-packages/sklearn/linear_model/_logistic.py:940: ConvergenceWarning: lbfgs failed to converge (status=1):\n",
      "STOP: TOTAL NO. of ITERATIONS REACHED LIMIT.\n",
      "\n",
      "Increase the number of iterations (max_iter) or scale the data as shown in:\n",
      "    https://scikit-learn.org/stable/modules/preprocessing.html\n",
      "Please also refer to the documentation for alternative solver options:\n",
      "    https://scikit-learn.org/stable/modules/linear_model.html#logistic-regression\n",
      "  extra_warning_msg=_LOGISTIC_SOLVER_CONVERGENCE_MSG)\n"
     ]
    },
    {
     "name": "stdout",
     "output_type": "stream",
     "text": [
      "Model Completed\n",
      "Started Creating Learning Model for Label :  8\n"
     ]
    },
    {
     "name": "stderr",
     "output_type": "stream",
     "text": [
      "/usr/local/lib/python3.7/dist-packages/sklearn/linear_model/_logistic.py:940: ConvergenceWarning: lbfgs failed to converge (status=1):\n",
      "STOP: TOTAL NO. of ITERATIONS REACHED LIMIT.\n",
      "\n",
      "Increase the number of iterations (max_iter) or scale the data as shown in:\n",
      "    https://scikit-learn.org/stable/modules/preprocessing.html\n",
      "Please also refer to the documentation for alternative solver options:\n",
      "    https://scikit-learn.org/stable/modules/linear_model.html#logistic-regression\n",
      "  extra_warning_msg=_LOGISTIC_SOLVER_CONVERGENCE_MSG)\n"
     ]
    },
    {
     "name": "stdout",
     "output_type": "stream",
     "text": [
      "Model Completed\n",
      "Started Creating Learning Model for Label :  11\n",
      "Model Completed\n",
      "Started Creating Learning Model for Label :  12\n",
      "Model Completed\n",
      "Started Creating Learning Model for Label :  13\n",
      "Model Completed\n",
      "Started Creating Learning Model for Label :  14\n"
     ]
    },
    {
     "name": "stderr",
     "output_type": "stream",
     "text": [
      "/usr/local/lib/python3.7/dist-packages/sklearn/linear_model/_logistic.py:940: ConvergenceWarning: lbfgs failed to converge (status=1):\n",
      "STOP: TOTAL NO. of ITERATIONS REACHED LIMIT.\n",
      "\n",
      "Increase the number of iterations (max_iter) or scale the data as shown in:\n",
      "    https://scikit-learn.org/stable/modules/preprocessing.html\n",
      "Please also refer to the documentation for alternative solver options:\n",
      "    https://scikit-learn.org/stable/modules/linear_model.html#logistic-regression\n",
      "  extra_warning_msg=_LOGISTIC_SOLVER_CONVERGENCE_MSG)\n"
     ]
    },
    {
     "name": "stdout",
     "output_type": "stream",
     "text": [
      "Model Completed\n",
      "Started Creating Learning Model for Label :  15\n",
      "Model Completed\n",
      "Started Creating Learning Model for Label :  16\n"
     ]
    },
    {
     "name": "stderr",
     "output_type": "stream",
     "text": [
      "/usr/local/lib/python3.7/dist-packages/sklearn/linear_model/_logistic.py:940: ConvergenceWarning: lbfgs failed to converge (status=1):\n",
      "STOP: TOTAL NO. of ITERATIONS REACHED LIMIT.\n",
      "\n",
      "Increase the number of iterations (max_iter) or scale the data as shown in:\n",
      "    https://scikit-learn.org/stable/modules/preprocessing.html\n",
      "Please also refer to the documentation for alternative solver options:\n",
      "    https://scikit-learn.org/stable/modules/linear_model.html#logistic-regression\n",
      "  extra_warning_msg=_LOGISTIC_SOLVER_CONVERGENCE_MSG)\n"
     ]
    },
    {
     "name": "stdout",
     "output_type": "stream",
     "text": [
      "Model Completed\n",
      "Started Creating Learning Model for Label :  17\n",
      "Model Completed\n",
      "Started Creating Learning Model for Label :  18\n",
      "Model Completed\n",
      "Started Creating Learning Model for Label :  19\n"
     ]
    },
    {
     "name": "stderr",
     "output_type": "stream",
     "text": [
      "/usr/local/lib/python3.7/dist-packages/sklearn/linear_model/_logistic.py:940: ConvergenceWarning: lbfgs failed to converge (status=1):\n",
      "STOP: TOTAL NO. of ITERATIONS REACHED LIMIT.\n",
      "\n",
      "Increase the number of iterations (max_iter) or scale the data as shown in:\n",
      "    https://scikit-learn.org/stable/modules/preprocessing.html\n",
      "Please also refer to the documentation for alternative solver options:\n",
      "    https://scikit-learn.org/stable/modules/linear_model.html#logistic-regression\n",
      "  extra_warning_msg=_LOGISTIC_SOLVER_CONVERGENCE_MSG)\n"
     ]
    },
    {
     "name": "stdout",
     "output_type": "stream",
     "text": [
      "Model Completed\n",
      "Started Creating Learning Model for Label :  20\n"
     ]
    },
    {
     "name": "stderr",
     "output_type": "stream",
     "text": [
      "/usr/local/lib/python3.7/dist-packages/sklearn/linear_model/_logistic.py:940: ConvergenceWarning: lbfgs failed to converge (status=1):\n",
      "STOP: TOTAL NO. of ITERATIONS REACHED LIMIT.\n",
      "\n",
      "Increase the number of iterations (max_iter) or scale the data as shown in:\n",
      "    https://scikit-learn.org/stable/modules/preprocessing.html\n",
      "Please also refer to the documentation for alternative solver options:\n",
      "    https://scikit-learn.org/stable/modules/linear_model.html#logistic-regression\n",
      "  extra_warning_msg=_LOGISTIC_SOLVER_CONVERGENCE_MSG)\n"
     ]
    },
    {
     "name": "stdout",
     "output_type": "stream",
     "text": [
      "Model Completed\n",
      "Started Creating Learning Model for Label :  22\n",
      "Model Completed\n"
     ]
    },
    {
     "name": "stderr",
     "output_type": "stream",
     "text": [
      "/usr/local/lib/python3.7/dist-packages/sklearn/linear_model/_logistic.py:940: ConvergenceWarning: lbfgs failed to converge (status=1):\n",
      "STOP: TOTAL NO. of ITERATIONS REACHED LIMIT.\n",
      "\n",
      "Increase the number of iterations (max_iter) or scale the data as shown in:\n",
      "    https://scikit-learn.org/stable/modules/preprocessing.html\n",
      "Please also refer to the documentation for alternative solver options:\n",
      "    https://scikit-learn.org/stable/modules/linear_model.html#logistic-regression\n",
      "  extra_warning_msg=_LOGISTIC_SOLVER_CONVERGENCE_MSG)\n"
     ]
    }
   ],
   "source": [
    "# Creating Model and saving the weights\n",
    "train() # Warning...!"
   ]
  },
  {
   "cell_type": "code",
   "execution_count": null,
   "metadata": {
    "colab": {
     "base_uri": "https://localhost:8080/"
    },
    "id": "KIBzERwdCeD4",
    "outputId": "8fa1c04b-c317-4ca4-e0de-28154cb9e9a1"
   },
   "outputs": [
    {
     "name": "stdout",
     "output_type": "stream",
     "text": [
      "Predicting Score for - 1\n",
      "Prediction Completed\n",
      "Predicting Score for - 2\n",
      "Prediction Completed\n",
      "Predicting Score for - 3\n",
      "Prediction Completed\n",
      "Predicting Score for - 4\n",
      "Prediction Completed\n",
      "Predicting Score for - 5\n",
      "Prediction Completed\n",
      "Predicting Score for - 6\n",
      "Prediction Completed\n",
      "Predicting Score for - 7\n",
      "Prediction Completed\n",
      "Predicting Score for - 8\n",
      "Prediction Completed\n",
      "Predicting Score for - 11\n",
      "Prediction Completed\n",
      "Predicting Score for - 12\n",
      "Prediction Completed\n",
      "Predicting Score for - 13\n",
      "Prediction Completed\n",
      "Predicting Score for - 14\n",
      "Prediction Completed\n",
      "Predicting Score for - 15\n",
      "Prediction Completed\n",
      "Predicting Score for - 16\n",
      "Prediction Completed\n",
      "Predicting Score for - 17\n",
      "Prediction Completed\n",
      "Predicting Score for - 18\n",
      "Prediction Completed\n",
      "Predicting Score for - 19\n",
      "Prediction Completed\n",
      "Predicting Score for - 20\n",
      "Prediction Completed\n",
      "Predicting Score for - 22\n",
      "Prediction Completed\n"
     ]
    }
   ],
   "source": [
    "# Loading models and Predicting the score\n",
    "loadModels()\n",
    "predictScore()"
   ]
  },
  {
   "cell_type": "code",
   "execution_count": null,
   "metadata": {
    "colab": {
     "base_uri": "https://localhost:8080/"
    },
    "id": "uk-zD51JCnA7",
    "outputId": "7cb030df-8604-4fa5-d35c-4bed10d2fa6d"
   },
   "outputs": [
    {
     "name": "stdout",
     "output_type": "stream",
     "text": [
      "Label_1 - 0.99995\n",
      "Label_2 - 1.0\n",
      "Label_3 - 1.0\n",
      "Label_4 - 1.0\n",
      "Label_5 - 0.99985\n",
      "Label_6 - 0.99985\n",
      "Label_7 - 0.9999\n",
      "Label_8 - 0.99995\n",
      "Label_11 - 0.99965\n",
      "Label_12 - 0.99965\n",
      "Label_13 - 0.99995\n",
      "Label_14 - 1.0\n",
      "Label_15 - 0.9991\n",
      "Label_16 - 1.0\n",
      "Label_17 - 1.0\n",
      "Label_18 - 1.0\n",
      "Label_19 - 1.0\n",
      "Label_20 - 1.0\n",
      "Label_21 - 0.9999\n"
     ]
    }
   ],
   "source": [
    "# Printing the Predicted Score\n",
    "\n",
    "l = len(predictedScore)\n",
    "t = 0\n",
    "for i in range(l):\n",
    "  if(i==8):\n",
    "    t += 2\n",
    "    i += 1\n",
    "  elif(i==20):\n",
    "    t += 1\n",
    "  print('Label_'+str(t+1),'-',predictedScore[i])\n",
    "  t += 1"
   ]
  },
  {
   "cell_type": "markdown",
   "metadata": {
    "id": "Kw2KBLrPFyLw"
   },
   "source": [
    "##### **Testing Data**"
   ]
  },
  {
   "cell_type": "markdown",
   "metadata": {
    "id": "WvMhzQ5LEF4Z"
   },
   "source": [
    "##### Reading file"
   ]
  },
  {
   "cell_type": "code",
   "execution_count": null,
   "metadata": {
    "colab": {
     "base_uri": "https://localhost:8080/"
    },
    "id": "iVUZyJcaEEwC",
    "outputId": "f2649557-266a-406d-8fdd-c6283e07fa92"
   },
   "outputs": [
    {
     "name": "stdout",
     "output_type": "stream",
     "text": [
      "Started Reading CSV file\n",
      "Completed Reading CSV file\n"
     ]
    }
   ],
   "source": [
    "print(\"Started Reading CSV file\")\n",
    "# Reading the CSV file\n",
    "x_val = pd.read_csv('./datasets/csv/x_val.csv')\n",
    "print(\"Completed Reading CSV file\")"
   ]
  },
  {
   "cell_type": "code",
   "execution_count": null,
   "metadata": {
    "colab": {
     "base_uri": "https://localhost:8080/",
     "height": 257
    },
    "id": "DaHhqBcnFEFl",
    "outputId": "b024cb68-a186-42fd-d891-9e286bd9123d"
   },
   "outputs": [
    {
     "data": {
      "text/html": [
       "<div>\n",
       "<style scoped>\n",
       "    .dataframe tbody tr th:only-of-type {\n",
       "        vertical-align: middle;\n",
       "    }\n",
       "\n",
       "    .dataframe tbody tr th {\n",
       "        vertical-align: top;\n",
       "    }\n",
       "\n",
       "    .dataframe thead th {\n",
       "        text-align: right;\n",
       "    }\n",
       "</style>\n",
       "<table border=\"1\" class=\"dataframe\">\n",
       "  <thead>\n",
       "    <tr style=\"text-align: right;\">\n",
       "      <th></th>\n",
       "      <th>Sample</th>\n",
       "      <th>time_step</th>\n",
       "      <th>1</th>\n",
       "      <th>2</th>\n",
       "      <th>3</th>\n",
       "      <th>4</th>\n",
       "      <th>5</th>\n",
       "      <th>6</th>\n",
       "      <th>7</th>\n",
       "      <th>8</th>\n",
       "      <th>9</th>\n",
       "      <th>10</th>\n",
       "      <th>11</th>\n",
       "      <th>12</th>\n",
       "      <th>13</th>\n",
       "      <th>14</th>\n",
       "      <th>15</th>\n",
       "      <th>16</th>\n",
       "      <th>17</th>\n",
       "      <th>18</th>\n",
       "      <th>19</th>\n",
       "      <th>20</th>\n",
       "      <th>21</th>\n",
       "      <th>22</th>\n",
       "      <th>23</th>\n",
       "      <th>24</th>\n",
       "      <th>25</th>\n",
       "      <th>26</th>\n",
       "      <th>27</th>\n",
       "      <th>28</th>\n",
       "      <th>29</th>\n",
       "      <th>30</th>\n",
       "      <th>31</th>\n",
       "      <th>32</th>\n",
       "      <th>33</th>\n",
       "      <th>34</th>\n",
       "      <th>35</th>\n",
       "      <th>36</th>\n",
       "      <th>37</th>\n",
       "      <th>38</th>\n",
       "      <th>...</th>\n",
       "      <th>800</th>\n",
       "      <th>801</th>\n",
       "      <th>802</th>\n",
       "      <th>803</th>\n",
       "      <th>804</th>\n",
       "      <th>805</th>\n",
       "      <th>806</th>\n",
       "      <th>807</th>\n",
       "      <th>808</th>\n",
       "      <th>809</th>\n",
       "      <th>810</th>\n",
       "      <th>811</th>\n",
       "      <th>812</th>\n",
       "      <th>813</th>\n",
       "      <th>814</th>\n",
       "      <th>815</th>\n",
       "      <th>816</th>\n",
       "      <th>817</th>\n",
       "      <th>1.1</th>\n",
       "      <th>2.1</th>\n",
       "      <th>3.1</th>\n",
       "      <th>4.1</th>\n",
       "      <th>5.1</th>\n",
       "      <th>6.1</th>\n",
       "      <th>7.1</th>\n",
       "      <th>8.1</th>\n",
       "      <th>9.1</th>\n",
       "      <th>10.1</th>\n",
       "      <th>11.1</th>\n",
       "      <th>12.1</th>\n",
       "      <th>13.1</th>\n",
       "      <th>14.1</th>\n",
       "      <th>15.1</th>\n",
       "      <th>16.1</th>\n",
       "      <th>17.1</th>\n",
       "      <th>18.1</th>\n",
       "      <th>19.1</th>\n",
       "      <th>20.1</th>\n",
       "      <th>21.1</th>\n",
       "      <th>22.1</th>\n",
       "    </tr>\n",
       "  </thead>\n",
       "  <tbody>\n",
       "    <tr>\n",
       "      <th>0</th>\n",
       "      <td>0</td>\n",
       "      <td>0</td>\n",
       "      <td>0.0</td>\n",
       "      <td>0.0</td>\n",
       "      <td>0.0</td>\n",
       "      <td>0.0</td>\n",
       "      <td>0.0</td>\n",
       "      <td>0.0</td>\n",
       "      <td>0.0</td>\n",
       "      <td>0.0</td>\n",
       "      <td>0.0</td>\n",
       "      <td>0.0</td>\n",
       "      <td>0.0</td>\n",
       "      <td>0.0</td>\n",
       "      <td>0.0</td>\n",
       "      <td>0.0</td>\n",
       "      <td>0.0</td>\n",
       "      <td>0.0</td>\n",
       "      <td>0.0</td>\n",
       "      <td>0.0</td>\n",
       "      <td>0.0</td>\n",
       "      <td>0.0</td>\n",
       "      <td>0.0</td>\n",
       "      <td>0.0</td>\n",
       "      <td>0.0</td>\n",
       "      <td>0.0</td>\n",
       "      <td>1.0</td>\n",
       "      <td>0.0</td>\n",
       "      <td>0.0</td>\n",
       "      <td>0.0</td>\n",
       "      <td>0.0</td>\n",
       "      <td>0.0</td>\n",
       "      <td>0.0</td>\n",
       "      <td>0.0</td>\n",
       "      <td>0.0</td>\n",
       "      <td>0.0</td>\n",
       "      <td>0.0</td>\n",
       "      <td>0.0</td>\n",
       "      <td>0.0</td>\n",
       "      <td>0.0</td>\n",
       "      <td>...</td>\n",
       "      <td>0.166667</td>\n",
       "      <td>0.0</td>\n",
       "      <td>0.003021</td>\n",
       "      <td>0.027411</td>\n",
       "      <td>0.000000</td>\n",
       "      <td>0.020833</td>\n",
       "      <td>0.003083</td>\n",
       "      <td>0.005155</td>\n",
       "      <td>0.0</td>\n",
       "      <td>0.058656</td>\n",
       "      <td>0.521141</td>\n",
       "      <td>0.033258</td>\n",
       "      <td>0.129448</td>\n",
       "      <td>0.295502</td>\n",
       "      <td>0.355786</td>\n",
       "      <td>0.175906</td>\n",
       "      <td>0.000000</td>\n",
       "      <td>0.0</td>\n",
       "      <td>0.0</td>\n",
       "      <td>0.0</td>\n",
       "      <td>0.0</td>\n",
       "      <td>0.0</td>\n",
       "      <td>0.0</td>\n",
       "      <td>0.0</td>\n",
       "      <td>0.0</td>\n",
       "      <td>0.0</td>\n",
       "      <td>0.0</td>\n",
       "      <td>0.0</td>\n",
       "      <td>0.0</td>\n",
       "      <td>0.0</td>\n",
       "      <td>0.0</td>\n",
       "      <td>0.0</td>\n",
       "      <td>0.0</td>\n",
       "      <td>0.0</td>\n",
       "      <td>1.0</td>\n",
       "      <td>0.0</td>\n",
       "      <td>0.0</td>\n",
       "      <td>0.0</td>\n",
       "      <td>1.0</td>\n",
       "      <td>0.0</td>\n",
       "    </tr>\n",
       "    <tr>\n",
       "      <th>1</th>\n",
       "      <td>0</td>\n",
       "      <td>1</td>\n",
       "      <td>0.0</td>\n",
       "      <td>0.0</td>\n",
       "      <td>0.0</td>\n",
       "      <td>0.0</td>\n",
       "      <td>0.0</td>\n",
       "      <td>0.0</td>\n",
       "      <td>0.0</td>\n",
       "      <td>0.0</td>\n",
       "      <td>0.0</td>\n",
       "      <td>0.0</td>\n",
       "      <td>0.0</td>\n",
       "      <td>0.0</td>\n",
       "      <td>0.0</td>\n",
       "      <td>0.0</td>\n",
       "      <td>0.0</td>\n",
       "      <td>0.0</td>\n",
       "      <td>0.0</td>\n",
       "      <td>0.0</td>\n",
       "      <td>0.0</td>\n",
       "      <td>0.0</td>\n",
       "      <td>0.0</td>\n",
       "      <td>0.0</td>\n",
       "      <td>0.0</td>\n",
       "      <td>0.0</td>\n",
       "      <td>1.0</td>\n",
       "      <td>0.0</td>\n",
       "      <td>0.0</td>\n",
       "      <td>0.0</td>\n",
       "      <td>0.0</td>\n",
       "      <td>0.0</td>\n",
       "      <td>0.0</td>\n",
       "      <td>0.0</td>\n",
       "      <td>0.0</td>\n",
       "      <td>0.0</td>\n",
       "      <td>0.0</td>\n",
       "      <td>0.0</td>\n",
       "      <td>0.0</td>\n",
       "      <td>0.0</td>\n",
       "      <td>...</td>\n",
       "      <td>0.645161</td>\n",
       "      <td>1.0</td>\n",
       "      <td>0.003021</td>\n",
       "      <td>0.027411</td>\n",
       "      <td>0.000000</td>\n",
       "      <td>0.020833</td>\n",
       "      <td>0.003083</td>\n",
       "      <td>0.005155</td>\n",
       "      <td>0.0</td>\n",
       "      <td>0.048999</td>\n",
       "      <td>0.521141</td>\n",
       "      <td>0.033258</td>\n",
       "      <td>0.101723</td>\n",
       "      <td>0.258519</td>\n",
       "      <td>0.340466</td>\n",
       "      <td>0.132045</td>\n",
       "      <td>0.862366</td>\n",
       "      <td>0.0</td>\n",
       "      <td>0.0</td>\n",
       "      <td>0.0</td>\n",
       "      <td>0.0</td>\n",
       "      <td>0.0</td>\n",
       "      <td>0.0</td>\n",
       "      <td>0.0</td>\n",
       "      <td>0.0</td>\n",
       "      <td>0.0</td>\n",
       "      <td>0.0</td>\n",
       "      <td>0.0</td>\n",
       "      <td>0.0</td>\n",
       "      <td>0.0</td>\n",
       "      <td>0.0</td>\n",
       "      <td>0.0</td>\n",
       "      <td>0.0</td>\n",
       "      <td>0.0</td>\n",
       "      <td>1.0</td>\n",
       "      <td>0.0</td>\n",
       "      <td>0.0</td>\n",
       "      <td>0.0</td>\n",
       "      <td>1.0</td>\n",
       "      <td>0.0</td>\n",
       "    </tr>\n",
       "    <tr>\n",
       "      <th>2</th>\n",
       "      <td>1</td>\n",
       "      <td>0</td>\n",
       "      <td>0.0</td>\n",
       "      <td>0.0</td>\n",
       "      <td>0.0</td>\n",
       "      <td>0.0</td>\n",
       "      <td>0.0</td>\n",
       "      <td>0.0</td>\n",
       "      <td>0.0</td>\n",
       "      <td>0.0</td>\n",
       "      <td>0.0</td>\n",
       "      <td>0.0</td>\n",
       "      <td>0.0</td>\n",
       "      <td>0.0</td>\n",
       "      <td>0.0</td>\n",
       "      <td>0.0</td>\n",
       "      <td>0.0</td>\n",
       "      <td>0.0</td>\n",
       "      <td>0.0</td>\n",
       "      <td>0.0</td>\n",
       "      <td>0.0</td>\n",
       "      <td>0.0</td>\n",
       "      <td>0.0</td>\n",
       "      <td>0.0</td>\n",
       "      <td>0.0</td>\n",
       "      <td>0.0</td>\n",
       "      <td>1.0</td>\n",
       "      <td>0.0</td>\n",
       "      <td>0.0</td>\n",
       "      <td>0.0</td>\n",
       "      <td>0.0</td>\n",
       "      <td>0.0</td>\n",
       "      <td>0.0</td>\n",
       "      <td>0.0</td>\n",
       "      <td>0.0</td>\n",
       "      <td>0.0</td>\n",
       "      <td>0.0</td>\n",
       "      <td>0.0</td>\n",
       "      <td>0.0</td>\n",
       "      <td>0.0</td>\n",
       "      <td>...</td>\n",
       "      <td>0.166667</td>\n",
       "      <td>0.0</td>\n",
       "      <td>0.000000</td>\n",
       "      <td>0.025381</td>\n",
       "      <td>0.015152</td>\n",
       "      <td>0.020833</td>\n",
       "      <td>0.003083</td>\n",
       "      <td>0.005155</td>\n",
       "      <td>0.0</td>\n",
       "      <td>0.066625</td>\n",
       "      <td>0.318178</td>\n",
       "      <td>0.227976</td>\n",
       "      <td>0.294034</td>\n",
       "      <td>0.436202</td>\n",
       "      <td>0.458733</td>\n",
       "      <td>0.345030</td>\n",
       "      <td>0.833333</td>\n",
       "      <td>0.0</td>\n",
       "      <td>0.0</td>\n",
       "      <td>0.0</td>\n",
       "      <td>0.0</td>\n",
       "      <td>0.0</td>\n",
       "      <td>0.0</td>\n",
       "      <td>0.0</td>\n",
       "      <td>0.0</td>\n",
       "      <td>0.0</td>\n",
       "      <td>0.0</td>\n",
       "      <td>0.0</td>\n",
       "      <td>0.0</td>\n",
       "      <td>0.0</td>\n",
       "      <td>0.0</td>\n",
       "      <td>0.0</td>\n",
       "      <td>0.0</td>\n",
       "      <td>0.0</td>\n",
       "      <td>1.0</td>\n",
       "      <td>0.0</td>\n",
       "      <td>0.0</td>\n",
       "      <td>0.0</td>\n",
       "      <td>1.0</td>\n",
       "      <td>0.0</td>\n",
       "    </tr>\n",
       "    <tr>\n",
       "      <th>3</th>\n",
       "      <td>1</td>\n",
       "      <td>1</td>\n",
       "      <td>0.0</td>\n",
       "      <td>0.0</td>\n",
       "      <td>0.0</td>\n",
       "      <td>0.0</td>\n",
       "      <td>0.0</td>\n",
       "      <td>0.0</td>\n",
       "      <td>0.0</td>\n",
       "      <td>0.0</td>\n",
       "      <td>0.0</td>\n",
       "      <td>0.0</td>\n",
       "      <td>0.0</td>\n",
       "      <td>0.0</td>\n",
       "      <td>0.0</td>\n",
       "      <td>0.0</td>\n",
       "      <td>0.0</td>\n",
       "      <td>0.0</td>\n",
       "      <td>0.0</td>\n",
       "      <td>0.0</td>\n",
       "      <td>0.0</td>\n",
       "      <td>0.0</td>\n",
       "      <td>0.0</td>\n",
       "      <td>0.0</td>\n",
       "      <td>0.0</td>\n",
       "      <td>0.0</td>\n",
       "      <td>1.0</td>\n",
       "      <td>0.0</td>\n",
       "      <td>0.0</td>\n",
       "      <td>0.0</td>\n",
       "      <td>0.0</td>\n",
       "      <td>0.0</td>\n",
       "      <td>0.0</td>\n",
       "      <td>0.0</td>\n",
       "      <td>0.0</td>\n",
       "      <td>0.0</td>\n",
       "      <td>0.0</td>\n",
       "      <td>0.0</td>\n",
       "      <td>0.0</td>\n",
       "      <td>0.0</td>\n",
       "      <td>...</td>\n",
       "      <td>0.371212</td>\n",
       "      <td>1.0</td>\n",
       "      <td>0.000000</td>\n",
       "      <td>0.025381</td>\n",
       "      <td>0.015152</td>\n",
       "      <td>0.020833</td>\n",
       "      <td>0.003083</td>\n",
       "      <td>0.005155</td>\n",
       "      <td>0.0</td>\n",
       "      <td>0.066625</td>\n",
       "      <td>0.318178</td>\n",
       "      <td>0.227976</td>\n",
       "      <td>0.303718</td>\n",
       "      <td>0.461383</td>\n",
       "      <td>0.470957</td>\n",
       "      <td>0.375191</td>\n",
       "      <td>0.806061</td>\n",
       "      <td>0.0</td>\n",
       "      <td>0.0</td>\n",
       "      <td>0.0</td>\n",
       "      <td>0.0</td>\n",
       "      <td>0.0</td>\n",
       "      <td>0.0</td>\n",
       "      <td>0.0</td>\n",
       "      <td>0.0</td>\n",
       "      <td>0.0</td>\n",
       "      <td>0.0</td>\n",
       "      <td>0.0</td>\n",
       "      <td>0.0</td>\n",
       "      <td>0.0</td>\n",
       "      <td>0.0</td>\n",
       "      <td>0.0</td>\n",
       "      <td>0.0</td>\n",
       "      <td>0.0</td>\n",
       "      <td>1.0</td>\n",
       "      <td>0.0</td>\n",
       "      <td>0.0</td>\n",
       "      <td>0.0</td>\n",
       "      <td>1.0</td>\n",
       "      <td>0.0</td>\n",
       "    </tr>\n",
       "    <tr>\n",
       "      <th>4</th>\n",
       "      <td>2</td>\n",
       "      <td>0</td>\n",
       "      <td>0.0</td>\n",
       "      <td>0.0</td>\n",
       "      <td>0.0</td>\n",
       "      <td>0.0</td>\n",
       "      <td>0.0</td>\n",
       "      <td>0.0</td>\n",
       "      <td>0.0</td>\n",
       "      <td>0.0</td>\n",
       "      <td>0.0</td>\n",
       "      <td>0.0</td>\n",
       "      <td>0.0</td>\n",
       "      <td>0.0</td>\n",
       "      <td>0.0</td>\n",
       "      <td>0.0</td>\n",
       "      <td>0.0</td>\n",
       "      <td>0.0</td>\n",
       "      <td>0.0</td>\n",
       "      <td>0.0</td>\n",
       "      <td>0.0</td>\n",
       "      <td>0.0</td>\n",
       "      <td>0.0</td>\n",
       "      <td>0.0</td>\n",
       "      <td>0.0</td>\n",
       "      <td>0.0</td>\n",
       "      <td>0.0</td>\n",
       "      <td>0.0</td>\n",
       "      <td>0.0</td>\n",
       "      <td>1.0</td>\n",
       "      <td>0.0</td>\n",
       "      <td>0.0</td>\n",
       "      <td>0.0</td>\n",
       "      <td>0.0</td>\n",
       "      <td>0.0</td>\n",
       "      <td>0.0</td>\n",
       "      <td>0.0</td>\n",
       "      <td>0.0</td>\n",
       "      <td>0.0</td>\n",
       "      <td>0.0</td>\n",
       "      <td>...</td>\n",
       "      <td>0.166667</td>\n",
       "      <td>0.0</td>\n",
       "      <td>0.008056</td>\n",
       "      <td>0.027411</td>\n",
       "      <td>0.000000</td>\n",
       "      <td>0.020833</td>\n",
       "      <td>0.003083</td>\n",
       "      <td>0.005155</td>\n",
       "      <td>0.0</td>\n",
       "      <td>0.133712</td>\n",
       "      <td>0.517298</td>\n",
       "      <td>0.022790</td>\n",
       "      <td>0.538958</td>\n",
       "      <td>0.362442</td>\n",
       "      <td>0.343434</td>\n",
       "      <td>0.244955</td>\n",
       "      <td>0.833333</td>\n",
       "      <td>0.0</td>\n",
       "      <td>0.0</td>\n",
       "      <td>0.0</td>\n",
       "      <td>0.0</td>\n",
       "      <td>0.0</td>\n",
       "      <td>0.0</td>\n",
       "      <td>0.0</td>\n",
       "      <td>0.0</td>\n",
       "      <td>0.0</td>\n",
       "      <td>0.0</td>\n",
       "      <td>0.0</td>\n",
       "      <td>0.0</td>\n",
       "      <td>0.0</td>\n",
       "      <td>0.0</td>\n",
       "      <td>0.0</td>\n",
       "      <td>0.0</td>\n",
       "      <td>0.0</td>\n",
       "      <td>0.0</td>\n",
       "      <td>0.0</td>\n",
       "      <td>0.0</td>\n",
       "      <td>0.0</td>\n",
       "      <td>1.0</td>\n",
       "      <td>0.0</td>\n",
       "    </tr>\n",
       "  </tbody>\n",
       "</table>\n",
       "<p>5 rows × 841 columns</p>\n",
       "</div>"
      ],
      "text/plain": [
       "   Sample  time_step    1    2    3    4  ...  17.1  18.1  19.1  20.1  21.1  22.1\n",
       "0       0          0  0.0  0.0  0.0  0.0  ...   1.0   0.0   0.0   0.0   1.0   0.0\n",
       "1       0          1  0.0  0.0  0.0  0.0  ...   1.0   0.0   0.0   0.0   1.0   0.0\n",
       "2       1          0  0.0  0.0  0.0  0.0  ...   1.0   0.0   0.0   0.0   1.0   0.0\n",
       "3       1          1  0.0  0.0  0.0  0.0  ...   1.0   0.0   0.0   0.0   1.0   0.0\n",
       "4       2          0  0.0  0.0  0.0  0.0  ...   0.0   0.0   0.0   0.0   1.0   0.0\n",
       "\n",
       "[5 rows x 841 columns]"
      ]
     },
     "execution_count": 17,
     "metadata": {},
     "output_type": "execute_result"
    }
   ],
   "source": [
    "x_val.head()"
   ]
  },
  {
   "cell_type": "code",
   "execution_count": null,
   "metadata": {
    "colab": {
     "base_uri": "https://localhost:8080/"
    },
    "id": "r0ilD6UnFKx3",
    "outputId": "96c7872f-8ef6-4d0b-d40e-434ecaa0b995"
   },
   "outputs": [
    {
     "data": {
      "text/plain": [
       "Index(['Sample', 'time_step', '1', '2', '3', '4', '5', '6', '7', '8',\n",
       "       ...\n",
       "       '13.1', '14.1', '15.1', '16.1', '17.1', '18.1', '19.1', '20.1', '21.1',\n",
       "       '22.1'],\n",
       "      dtype='object', length=841)"
      ]
     },
     "execution_count": 18,
     "metadata": {},
     "output_type": "execute_result"
    }
   ],
   "source": [
    "# Storing all column names in variable column\n",
    "col = x_val.columns\n",
    "col"
   ]
  },
  {
   "cell_type": "code",
   "execution_count": null,
   "metadata": {
    "colab": {
     "base_uri": "https://localhost:8080/"
    },
    "id": "xFnq7OTLFORH",
    "outputId": "7518e53e-ad7b-4c9f-d5e6-f44f22383784"
   },
   "outputs": [
    {
     "data": {
      "text/plain": [
       "Index(['Sample', 'time_step', '1', '2', '3', '4', '5', '6', '7', '8',\n",
       "       ...\n",
       "       '808', '809', '810', '811', '812', '813', '814', '815', '816', '817'],\n",
       "      dtype='object', length=819)"
      ]
     },
     "execution_count": 19,
     "metadata": {},
     "output_type": "execute_result"
    }
   ],
   "source": [
    "# Storing Feature columns excluding last 22 label columns\n",
    "feat_col = col[:-22]\n",
    "feat_col"
   ]
  },
  {
   "cell_type": "markdown",
   "metadata": {
    "id": "NLuZ3vtHGKU6"
   },
   "source": [
    "##### Testing"
   ]
  },
  {
   "cell_type": "code",
   "execution_count": null,
   "metadata": {
    "id": "3zYZ_j9BGcKp"
   },
   "outputs": [],
   "source": [
    "predictedScore = []\n",
    "\n",
    "def predictScore():\n",
    "  t = 0\n",
    "  for i in range(-22,0,1):\n",
    "    target = col[-1*i]\n",
    "    if(23+i==9 or 23+i==10 or 23+i==21):\n",
    "      continue\n",
    "    else:\n",
    "      print(\"Predicting Score for -\",23+i)\n",
    "      X_train, X_test, y_train, y_test = train_test_split(x_val[feat_col],x_val[target],test_size=0.99)\n",
    "      predictedScore.append(models[t].score(X_test,y_test))\n",
    "      t+=1\n",
    "      print(\"Prediction Completed\")"
   ]
  },
  {
   "cell_type": "code",
   "execution_count": null,
   "metadata": {
    "colab": {
     "base_uri": "https://localhost:8080/"
    },
    "id": "Sk6i9myTGO-d",
    "outputId": "504afb48-49fa-47b3-bf5b-34fe7e8dd4ba"
   },
   "outputs": [
    {
     "name": "stdout",
     "output_type": "stream",
     "text": [
      "Predicting Score for - 1\n",
      "Prediction Completed\n",
      "Predicting Score for - 2\n",
      "Prediction Completed\n",
      "Predicting Score for - 3\n",
      "Prediction Completed\n",
      "Predicting Score for - 4\n",
      "Prediction Completed\n",
      "Predicting Score for - 5\n",
      "Prediction Completed\n",
      "Predicting Score for - 6\n",
      "Prediction Completed\n",
      "Predicting Score for - 7\n",
      "Prediction Completed\n",
      "Predicting Score for - 8\n",
      "Prediction Completed\n",
      "Predicting Score for - 11\n",
      "Prediction Completed\n",
      "Predicting Score for - 12\n",
      "Prediction Completed\n",
      "Predicting Score for - 13\n",
      "Prediction Completed\n",
      "Predicting Score for - 14\n",
      "Prediction Completed\n",
      "Predicting Score for - 15\n",
      "Prediction Completed\n",
      "Predicting Score for - 16\n",
      "Prediction Completed\n",
      "Predicting Score for - 17\n",
      "Prediction Completed\n",
      "Predicting Score for - 18\n",
      "Prediction Completed\n",
      "Predicting Score for - 19\n",
      "Prediction Completed\n",
      "Predicting Score for - 20\n",
      "Prediction Completed\n",
      "Predicting Score for - 22\n",
      "Prediction Completed\n"
     ]
    }
   ],
   "source": [
    "# Loading models and Predicting the score\n",
    "loadModels()\n",
    "predictScore()"
   ]
  },
  {
   "cell_type": "code",
   "execution_count": null,
   "metadata": {
    "colab": {
     "base_uri": "https://localhost:8080/"
    },
    "id": "XJ_0oxASGtMz",
    "outputId": "69378758-e219-432a-f161-679c6c0762e5"
   },
   "outputs": [
    {
     "name": "stdout",
     "output_type": "stream",
     "text": [
      "Label_1 - 1.0\n",
      "Label_2 - 1.0\n",
      "Label_3 - 1.0\n",
      "Label_4 - 1.0\n",
      "Label_5 - 1.0\n",
      "Label_6 - 1.0\n",
      "Label_7 - 1.0\n",
      "Label_8 - 1.0\n",
      "Label_11 - 1.0\n",
      "Label_12 - 1.0\n",
      "Label_13 - 1.0\n",
      "Label_14 - 1.0\n",
      "Label_15 - 0.9984902755987093\n",
      "Label_16 - 1.0\n",
      "Label_17 - 1.0\n",
      "Label_18 - 1.0\n",
      "Label_19 - 1.0\n",
      "Label_20 - 1.0\n",
      "Label_21 - 1.0\n"
     ]
    }
   ],
   "source": [
    "# Printing the Predicted Score\n",
    "\n",
    "l = len(predictedScore)\n",
    "t = 0\n",
    "for i in range(l):\n",
    "  if(i==8):\n",
    "    t += 2\n",
    "    i += 1\n",
    "  elif(i==20):\n",
    "    t += 1\n",
    "  print('Label_'+str(t+1),'-',predictedScore[i])\n",
    "  t += 1"
   ]
  },
  {
   "cell_type": "markdown",
   "metadata": {
    "id": "0AjEOBuWycrE"
   },
   "source": [
    "## Model - 2"
   ]
  },
  {
   "cell_type": "code",
   "execution_count": 3,
   "metadata": {
    "id": "d4LIOTnzyol5"
   },
   "outputs": [],
   "source": [
    "x_train = pd.read_csv('./datasets/csv/x_train_full.csv')"
   ]
  },
  {
   "cell_type": "code",
   "execution_count": 4,
   "metadata": {
    "id": "fUO75Uf328Hr"
   },
   "outputs": [
    {
     "data": {
      "text/html": [
       "<div>\n",
       "<style scoped>\n",
       "    .dataframe tbody tr th:only-of-type {\n",
       "        vertical-align: middle;\n",
       "    }\n",
       "\n",
       "    .dataframe tbody tr th {\n",
       "        vertical-align: top;\n",
       "    }\n",
       "\n",
       "    .dataframe thead th {\n",
       "        text-align: right;\n",
       "    }\n",
       "</style>\n",
       "<table border=\"1\" class=\"dataframe\">\n",
       "  <thead>\n",
       "    <tr style=\"text-align: right;\">\n",
       "      <th></th>\n",
       "      <th>Sample</th>\n",
       "      <th>time_step</th>\n",
       "      <th>1</th>\n",
       "      <th>2</th>\n",
       "      <th>3</th>\n",
       "      <th>4</th>\n",
       "      <th>5</th>\n",
       "      <th>6</th>\n",
       "      <th>7</th>\n",
       "      <th>8</th>\n",
       "      <th>...</th>\n",
       "      <th>13.1</th>\n",
       "      <th>14.1</th>\n",
       "      <th>15.1</th>\n",
       "      <th>16.1</th>\n",
       "      <th>17.1</th>\n",
       "      <th>18.1</th>\n",
       "      <th>19.1</th>\n",
       "      <th>20.1</th>\n",
       "      <th>21.1</th>\n",
       "      <th>22.1</th>\n",
       "    </tr>\n",
       "  </thead>\n",
       "  <tbody>\n",
       "    <tr>\n",
       "      <th>0</th>\n",
       "      <td>0</td>\n",
       "      <td>0</td>\n",
       "      <td>0.0</td>\n",
       "      <td>0.0</td>\n",
       "      <td>0.0</td>\n",
       "      <td>0.0</td>\n",
       "      <td>0.0</td>\n",
       "      <td>0.0</td>\n",
       "      <td>0.0</td>\n",
       "      <td>0.0</td>\n",
       "      <td>...</td>\n",
       "      <td>0.0</td>\n",
       "      <td>0.0</td>\n",
       "      <td>0.0</td>\n",
       "      <td>0.0</td>\n",
       "      <td>0.0</td>\n",
       "      <td>0.0</td>\n",
       "      <td>0.0</td>\n",
       "      <td>0.0</td>\n",
       "      <td>1.0</td>\n",
       "      <td>0.0</td>\n",
       "    </tr>\n",
       "    <tr>\n",
       "      <th>1</th>\n",
       "      <td>0</td>\n",
       "      <td>1</td>\n",
       "      <td>0.0</td>\n",
       "      <td>0.0</td>\n",
       "      <td>0.0</td>\n",
       "      <td>0.0</td>\n",
       "      <td>0.0</td>\n",
       "      <td>0.0</td>\n",
       "      <td>0.0</td>\n",
       "      <td>0.0</td>\n",
       "      <td>...</td>\n",
       "      <td>0.0</td>\n",
       "      <td>0.0</td>\n",
       "      <td>0.0</td>\n",
       "      <td>0.0</td>\n",
       "      <td>0.0</td>\n",
       "      <td>0.0</td>\n",
       "      <td>0.0</td>\n",
       "      <td>0.0</td>\n",
       "      <td>1.0</td>\n",
       "      <td>0.0</td>\n",
       "    </tr>\n",
       "    <tr>\n",
       "      <th>2</th>\n",
       "      <td>1</td>\n",
       "      <td>0</td>\n",
       "      <td>0.0</td>\n",
       "      <td>0.0</td>\n",
       "      <td>0.0</td>\n",
       "      <td>0.0</td>\n",
       "      <td>0.0</td>\n",
       "      <td>0.0</td>\n",
       "      <td>0.0</td>\n",
       "      <td>0.0</td>\n",
       "      <td>...</td>\n",
       "      <td>0.0</td>\n",
       "      <td>0.0</td>\n",
       "      <td>0.0</td>\n",
       "      <td>0.0</td>\n",
       "      <td>1.0</td>\n",
       "      <td>0.0</td>\n",
       "      <td>0.0</td>\n",
       "      <td>0.0</td>\n",
       "      <td>0.0</td>\n",
       "      <td>0.0</td>\n",
       "    </tr>\n",
       "    <tr>\n",
       "      <th>3</th>\n",
       "      <td>1</td>\n",
       "      <td>1</td>\n",
       "      <td>0.0</td>\n",
       "      <td>0.0</td>\n",
       "      <td>0.0</td>\n",
       "      <td>0.0</td>\n",
       "      <td>0.0</td>\n",
       "      <td>0.0</td>\n",
       "      <td>0.0</td>\n",
       "      <td>0.0</td>\n",
       "      <td>...</td>\n",
       "      <td>0.0</td>\n",
       "      <td>0.0</td>\n",
       "      <td>0.0</td>\n",
       "      <td>0.0</td>\n",
       "      <td>1.0</td>\n",
       "      <td>0.0</td>\n",
       "      <td>0.0</td>\n",
       "      <td>0.0</td>\n",
       "      <td>0.0</td>\n",
       "      <td>0.0</td>\n",
       "    </tr>\n",
       "    <tr>\n",
       "      <th>4</th>\n",
       "      <td>2</td>\n",
       "      <td>0</td>\n",
       "      <td>0.0</td>\n",
       "      <td>0.0</td>\n",
       "      <td>0.0</td>\n",
       "      <td>0.0</td>\n",
       "      <td>0.0</td>\n",
       "      <td>0.0</td>\n",
       "      <td>0.0</td>\n",
       "      <td>0.0</td>\n",
       "      <td>...</td>\n",
       "      <td>0.0</td>\n",
       "      <td>0.0</td>\n",
       "      <td>0.0</td>\n",
       "      <td>0.0</td>\n",
       "      <td>1.0</td>\n",
       "      <td>0.0</td>\n",
       "      <td>0.0</td>\n",
       "      <td>0.0</td>\n",
       "      <td>0.0</td>\n",
       "      <td>0.0</td>\n",
       "    </tr>\n",
       "  </tbody>\n",
       "</table>\n",
       "<p>5 rows × 841 columns</p>\n",
       "</div>"
      ],
      "text/plain": [
       "   Sample  time_step    1    2    3    4    5    6    7    8  ...  13.1  14.1  \\\n",
       "0       0          0  0.0  0.0  0.0  0.0  0.0  0.0  0.0  0.0  ...   0.0   0.0   \n",
       "1       0          1  0.0  0.0  0.0  0.0  0.0  0.0  0.0  0.0  ...   0.0   0.0   \n",
       "2       1          0  0.0  0.0  0.0  0.0  0.0  0.0  0.0  0.0  ...   0.0   0.0   \n",
       "3       1          1  0.0  0.0  0.0  0.0  0.0  0.0  0.0  0.0  ...   0.0   0.0   \n",
       "4       2          0  0.0  0.0  0.0  0.0  0.0  0.0  0.0  0.0  ...   0.0   0.0   \n",
       "\n",
       "   15.1  16.1  17.1  18.1  19.1  20.1  21.1  22.1  \n",
       "0   0.0   0.0   0.0   0.0   0.0   0.0   1.0   0.0  \n",
       "1   0.0   0.0   0.0   0.0   0.0   0.0   1.0   0.0  \n",
       "2   0.0   0.0   1.0   0.0   0.0   0.0   0.0   0.0  \n",
       "3   0.0   0.0   1.0   0.0   0.0   0.0   0.0   0.0  \n",
       "4   0.0   0.0   1.0   0.0   0.0   0.0   0.0   0.0  \n",
       "\n",
       "[5 rows x 841 columns]"
      ]
     },
     "execution_count": 4,
     "metadata": {},
     "output_type": "execute_result"
    }
   ],
   "source": [
    "x_train.head()\n"
   ]
  },
  {
   "cell_type": "code",
   "execution_count": 5,
   "metadata": {
    "id": "MW2Krlnu3Eyg"
   },
   "outputs": [
    {
     "data": {
      "text/plain": [
       "Index(['Sample', 'time_step', '1', '2', '3', '4', '5', '6', '7', '8',\n",
       "       ...\n",
       "       '13.1', '14.1', '15.1', '16.1', '17.1', '18.1', '19.1', '20.1', '21.1',\n",
       "       '22.1'],\n",
       "      dtype='object', length=841)"
      ]
     },
     "execution_count": 5,
     "metadata": {},
     "output_type": "execute_result"
    }
   ],
   "source": [
    "col = x_train.columns\n",
    "col"
   ]
  },
  {
   "cell_type": "code",
   "execution_count": 6,
   "metadata": {
    "id": "1HHITeHW3HTu"
   },
   "outputs": [],
   "source": [
    "#Target varible\n",
    "target = col[-20]\n",
    "#Feature columns\n",
    "feat_col = col[:-22]"
   ]
  },
  {
   "cell_type": "code",
   "execution_count": 7,
   "metadata": {
    "id": "u0pp1cf13Qoc"
   },
   "outputs": [],
   "source": [
    "from sklearn.model_selection import train_test_split\n",
    "x_train,x_test,y_train,y_test=train_test_split(x_train[feat_col],x_train[target],test_size=0.3,random_state=0)"
   ]
  },
  {
   "cell_type": "code",
   "execution_count": 8,
   "metadata": {
    "id": "_fQvNO6e4VDr"
   },
   "outputs": [],
   "source": [
    "from sklearn.preprocessing import StandardScaler\n",
    "st_x=StandardScaler()\n",
    "x_train1=st_x.fit_transform(x_train)\n",
    "x_test1=st_x.transform(x_test)"
   ]
  },
  {
   "cell_type": "code",
   "execution_count": 9,
   "metadata": {
    "id": "fs2Myy-e4XJA"
   },
   "outputs": [
    {
     "data": {
      "text/plain": [
       "KNeighborsClassifier(n_neighbors=4)"
      ]
     },
     "execution_count": 9,
     "metadata": {},
     "output_type": "execute_result"
    }
   ],
   "source": [
    "from sklearn.neighbors import KNeighborsClassifier\n",
    "classifier=KNeighborsClassifier(n_neighbors=4,metric='minkowski',p=2)#minkowski is the standard metric used to measure distances, if p=1, manhattan distance is used, p=2, euclidean distance is used.\n",
    "classifier.fit(x_train1,y_train)"
   ]
  },
  {
   "cell_type": "code",
   "execution_count": 10,
   "metadata": {
    "id": "k8VrU4K24ZUC"
   },
   "outputs": [],
   "source": [
    "y_pred=classifier.predict(x_test1)"
   ]
  },
  {
   "cell_type": "code",
   "execution_count": 11,
   "metadata": {
    "id": "6f7DxtGv4bfT"
   },
   "outputs": [],
   "source": [
    "from sklearn.metrics import confusion_matrix\n",
    "cm=confusion_matrix(y_test,y_pred)"
   ]
  },
  {
   "cell_type": "code",
   "execution_count": 12,
   "metadata": {},
   "outputs": [
    {
     "name": "stdout",
     "output_type": "stream",
     "text": [
      "[[105467    864]\n",
      " [  5593   4502]]\n"
     ]
    }
   ],
   "source": [
    "print(cm)"
   ]
  },
  {
   "cell_type": "code",
   "execution_count": 13,
   "metadata": {
    "id": "ZrS9yLpy4gcF"
   },
   "outputs": [],
   "source": [
    "accuracy = classifier.score(x_test1, y_test)"
   ]
  },
  {
   "cell_type": "code",
   "execution_count": 14,
   "metadata": {
    "id": "2FtlIba04i-R"
   },
   "outputs": [
    {
     "data": {
      "text/plain": [
       "0.9445398794083796"
      ]
     },
     "execution_count": 14,
     "metadata": {},
     "output_type": "execute_result"
    }
   ],
   "source": [
    "accuracy"
   ]
  },
  {
   "cell_type": "code",
   "execution_count": 15,
   "metadata": {},
   "outputs": [],
   "source": [
    "y_score = classifier.predict_proba(x_test1)\n",
    "fpr, tpr, threshold = roc_curve(y_test, y_score[:, 1])\n",
    "roc_auc = auc(fpr, tpr)"
   ]
  },
  {
   "cell_type": "code",
   "execution_count": 16,
   "metadata": {},
   "outputs": [
    {
     "data": {
      "image/png": "[encoded data removed]",
      "text/plain": [
       "<Figure size 432x288 with 1 Axes>"
      ]
     },
     "metadata": {
      "needs_background": "light"
     },
     "output_type": "display_data"
    }
   ],
   "source": [
    "plt.title('Receiver Operating Characteristic')\n",
    "plt.plot(fpr, tpr, 'b', label = 'AUC = %0.2f' % roc_auc)\n",
    "plt.legend(loc = 'lower right')\n",
    "plt.plot([0, 1], [0, 1],'r--')\n",
    "plt.xlim([0, 1])\n",
    "plt.ylim([0, 1])\n",
    "plt.ylabel('True Positive Rate')\n",
    "plt.xlabel('False Positive Rate')\n",
    "plt.title('ROC Curve of kNN')\n",
    "plt.show()"
   ]
  },
  {
   "cell_type": "markdown",
   "metadata": {
    "id": "gP_eVjBOyjse"
   },
   "source": [
    "## Model - 3"
   ]
  },
  {
   "cell_type": "code",
   "execution_count": null,
   "metadata": {
    "id": "Jc1NCtCcga6u"
   },
   "outputs": [],
   "source": [
    "x_train = pd.read_csv('/content/drive/MyDrive/Course Projects/Project DMA/Data/CSV/x_test.csv')"
   ]
  },
  {
   "cell_type": "code",
   "execution_count": null,
   "metadata": {
    "id": "vqaCFn2B0fhj"
   },
   "outputs": [],
   "source": [
    "x_train.shape[0]/2\n",
    "df = x_train"
   ]
  },
  {
   "cell_type": "code",
   "execution_count": null,
   "metadata": {
    "colab": {
     "base_uri": "https://localhost:8080/"
    },
    "id": "aSicjcwX0nJj",
    "outputId": "55cfb6d9-7203-4dbc-8d3a-61170a5a3d3b"
   },
   "outputs": [
    {
     "data": {
      "text/plain": [
       "Index(['Sample', 'time_step', '1', '2', '3', '4', '5', '6', '7', '8',\n",
       "       ...\n",
       "       '808', '809', '810', '811', '812', '813', '814', '815', '816', '817'],\n",
       "      dtype='object', length=819)"
      ]
     },
     "execution_count": 6,
     "metadata": {},
     "output_type": "execute_result"
    }
   ],
   "source": [
    "col = x_train.columns\n",
    "col\n",
    "\n",
    "feat_col = col[:-22]\n",
    "feat_col"
   ]
  },
  {
   "cell_type": "code",
   "execution_count": null,
   "metadata": {
    "colab": {
     "base_uri": "https://localhost:8080/"
    },
    "id": "_IuqF_0F2cg5",
    "outputId": "1f71ff6b-fce7-4099-c7cc-003535ff8252"
   },
   "outputs": [
    {
     "name": "stdout",
     "output_type": "stream",
     "text": [
      "Started Label - 1.1\n",
      "AUC :  0.9800564056184748\n",
      "Accuracy :  0.9866666666666667\n",
      "Label Completed\n",
      "Started Label - 2.1\n",
      "AUC :  0.8210007536392843\n",
      "Accuracy :  0.991\n",
      "Label Completed\n",
      "Started Label - 3.1\n",
      "AUC :  0.978050408023698\n",
      "Accuracy :  0.985\n",
      "Label Completed\n",
      "Started Label - 4.1\n"
     ]
    },
    {
     "name": "stderr",
     "output_type": "stream",
     "text": [
      "/usr/local/lib/python3.7/dist-packages/sklearn/metrics/_ranking.py:808: UndefinedMetricWarning: No positive samples in y_true, true positive value should be meaningless\n",
      "  UndefinedMetricWarning)\n"
     ]
    },
    {
     "name": "stdout",
     "output_type": "stream",
     "text": [
      "AUC :  nan\n",
      "Accuracy :  0.9986666666666667\n",
      "Label Completed\n",
      "Started Label - 5.1\n",
      "AUC :  0.9455051891682521\n",
      "Accuracy :  0.9933333333333333\n",
      "Label Completed\n",
      "Started Label - 6.1\n",
      "AUC :  0.6246662216288384\n",
      "Accuracy :  0.9983333333333333\n",
      "Label Completed\n",
      "Started Label - 7.1\n",
      "AUC :  0.856975800677772\n",
      "Accuracy :  0.999\n",
      "Label Completed\n",
      "Started Label - 8.1\n",
      "AUC :  0.5\n",
      "Accuracy :  0.9996666666666667\n",
      "Label Completed\n",
      "Started Label - 9.1\n",
      "AUC :  0.9442980777722174\n",
      "Accuracy :  0.9956666666666667\n",
      "Label Completed\n",
      "Started Label - 10.1\n"
     ]
    },
    {
     "name": "stderr",
     "output_type": "stream",
     "text": [
      "/usr/local/lib/python3.7/dist-packages/sklearn/metrics/_ranking.py:808: UndefinedMetricWarning: No positive samples in y_true, true positive value should be meaningless\n",
      "  UndefinedMetricWarning)\n"
     ]
    },
    {
     "name": "stdout",
     "output_type": "stream",
     "text": [
      "AUC :  nan\n",
      "Accuracy :  1.0\n",
      "Label Completed\n",
      "Started Label - 11.1\n",
      "AUC :  0.9310996563573883\n",
      "Accuracy :  0.9916666666666667\n",
      "Label Completed\n",
      "Started Label - 12.1\n"
     ]
    },
    {
     "name": "stderr",
     "output_type": "stream",
     "text": [
      "/usr/local/lib/python3.7/dist-packages/sklearn/metrics/_ranking.py:808: UndefinedMetricWarning: No positive samples in y_true, true positive value should be meaningless\n",
      "  UndefinedMetricWarning)\n"
     ]
    },
    {
     "name": "stdout",
     "output_type": "stream",
     "text": [
      "AUC :  nan\n",
      "Accuracy :  0.9996666666666667\n",
      "Label Completed\n",
      "Started Label - 13.1\n",
      "AUC :  0.9594943109987358\n",
      "Accuracy :  0.9893333333333333\n",
      "Label Completed\n",
      "Started Label - 14.1\n",
      "AUC :  0.7493319973279894\n",
      "Accuracy :  0.9976666666666667\n",
      "Label Completed\n",
      "Started Label - 15.1\n",
      "AUC :  0.5\n",
      "Accuracy :  0.9996666666666667\n",
      "Label Completed\n",
      "Started Label - 16.1\n",
      "AUC :  0.7496664442961973\n",
      "Accuracy :  0.999\n",
      "Label Completed\n",
      "Started Label - 17.1\n",
      "AUC :  0.9673369859442078\n",
      "Accuracy :  0.9683333333333334\n",
      "Label Completed\n",
      "Started Label - 18.1\n",
      "AUC :  0.5993311036789297\n",
      "Accuracy :  0.996\n",
      "Label Completed\n",
      "Started Label - 19.1\n",
      "AUC :  0.8451494939610106\n",
      "Accuracy :  0.9966666666666667\n",
      "Label Completed\n",
      "Started Label - 20.1\n"
     ]
    },
    {
     "name": "stderr",
     "output_type": "stream",
     "text": [
      "/usr/local/lib/python3.7/dist-packages/sklearn/metrics/_ranking.py:808: UndefinedMetricWarning: No positive samples in y_true, true positive value should be meaningless\n",
      "  UndefinedMetricWarning)\n"
     ]
    },
    {
     "name": "stdout",
     "output_type": "stream",
     "text": [
      "AUC :  nan\n",
      "Accuracy :  1.0\n",
      "Label Completed\n",
      "Started Label - 21.1\n",
      "AUC :  0.964937406128852\n",
      "Accuracy :  0.9663333333333334\n",
      "Label Completed\n",
      "Started Label - 22.1\n",
      "AUC :  0.7341208021928182\n",
      "Accuracy :  0.9946666666666667\n",
      "Label Completed\n"
     ]
    }
   ],
   "source": [
    "# Training\n",
    "\n",
    "targets = col[-22:]\n",
    "for target in targets:\n",
    "\n",
    "  print(\"Started Label -\",target)\n",
    "\n",
    "  X_train, X_test, y_train, y_test = train_test_split(df[feat_col],df[target],test_size=0.1)\n",
    "\n",
    "  model = DecisionTreeClassifier()\n",
    "\n",
    "  model.fit(X_train,y_train)\n",
    "\n",
    "  pred = model.predict(X_test)\n",
    "\n",
    "  saveModel(int(float(target)),model)\n",
    "\n",
    "  actual = y_test\n",
    "\n",
    "  fpr, tpr, thresholds = metrics.roc_curve(actual, pred)\n",
    "\n",
    "  score = metrics.auc(fpr, tpr)\n",
    "\n",
    "  print('AUC : ',score)\n",
    "  print('Accuracy : ',model.score(X_test,y_test))\n",
    "\n",
    "  print(\"Label Completed\")\n"
   ]
  },
  {
   "cell_type": "code",
   "execution_count": null,
   "metadata": {
    "colab": {
     "base_uri": "https://localhost:8080/"
    },
    "id": "eFtIt68CFbUT",
    "outputId": "763ba56f-c2b2-4b41-9496-5bb82f7de32a"
   },
   "outputs": [
    {
     "name": "stdout",
     "output_type": "stream",
     "text": [
      "Started Label - 1.1\n",
      "AUC :  0.695991303788862\n",
      "Accuracy :  0.9629181372395915\n",
      "Label Completed\n",
      "Started Label - 2.1\n",
      "AUC :  0.7083650301922824\n",
      "Accuracy :  0.9975325608270607\n",
      "Label Completed\n",
      "Started Label - 3.1\n",
      "AUC :  0.7414347623776524\n",
      "Accuracy :  0.9477360985309887\n",
      "Label Completed\n",
      "Started Label - 4.1\n",
      "AUC :  0.6248672179292246\n",
      "Accuracy :  0.9995080738357748\n",
      "Label Completed\n",
      "Started Label - 5.1\n",
      "AUC :  0.7299014343608893\n",
      "Accuracy :  0.8256603262849944\n",
      "Label Completed\n",
      "Started Label - 6.1\n",
      "AUC :  0.550530879072645\n",
      "Accuracy :  0.9984018906622524\n",
      "Label Completed\n",
      "Started Label - 7.1\n",
      "AUC :  0.6805300486040126\n",
      "Accuracy :  0.9366820751475778\n",
      "Label Completed\n",
      "Started Label - 8.1\n",
      "AUC :  0.5453139809500995\n",
      "Accuracy :  0.9965018583877315\n",
      "Label Completed\n",
      "Started Label - 9.1\n",
      "AUC :  0.7312927912806565\n",
      "Accuracy :  0.8537808039479027\n",
      "Label Completed\n",
      "Started Label - 10.1\n",
      "AUC :  0.5127938598764765\n",
      "Accuracy :  0.9960932213095126\n",
      "Label Completed\n",
      "Started Label - 11.1\n",
      "AUC :  0.7164937535476151\n",
      "Accuracy :  0.7692267649477882\n",
      "Label Completed\n",
      "Started Label - 12.1\n",
      "AUC :  0.5199484217132726\n",
      "Accuracy :  0.9966476142882427\n",
      "Label Completed\n",
      "Started Label - 13.1\n",
      "AUC :  0.7120127711579931\n",
      "Accuracy :  0.7011561566251262\n",
      "Label Completed\n",
      "Started Label - 14.1\n",
      "AUC :  0.536289890004853\n",
      "Accuracy :  0.9595006819293916\n",
      "Label Completed\n",
      "Started Label - 15.1\n",
      "AUC :  0.5375939806732095\n",
      "Accuracy :  0.9932327617619806\n",
      "Label Completed\n",
      "Started Label - 16.1\n",
      "AUC :  0.5569678416174769\n",
      "Accuracy :  0.9967491228618129\n",
      "Label Completed\n",
      "Started Label - 17.1\n",
      "AUC :  0.7405430601504075\n",
      "Accuracy :  0.8896133304182153\n",
      "Label Completed\n",
      "Started Label - 18.1\n",
      "AUC :  0.6223523062855814\n",
      "Accuracy :  0.9988235416601597\n",
      "Label Completed\n",
      "Started Label - 19.1\n",
      "AUC :  0.7282212184300076\n",
      "Accuracy :  0.833674298029172\n",
      "Label Completed\n",
      "Started Label - 20.1\n",
      "AUC :  0.5\n",
      "Accuracy :  0.999609582409345\n",
      "Label Completed\n",
      "Started Label - 21.1\n",
      "AUC :  0.7369343949167299\n",
      "Accuracy :  0.8342833494705938\n",
      "Label Completed\n",
      "Started Label - 22.1\n",
      "AUC :  0.6296466853767357\n",
      "Accuracy :  0.996306649592404\n",
      "Label Completed\n"
     ]
    }
   ],
   "source": [
    "targets = col[-22:]\n",
    "for target in targets:\n",
    "\n",
    "  print(\"Started Label -\",target)\n",
    "\n",
    "  X_train, X_test, y_train, y_test = train_test_split(x_train[feat_col],x_train[target],test_size=0.99)\n",
    "\n",
    "  model = loadModel(int(float(target)))\n",
    "\n",
    "  pred = model.predict(X_test)\n",
    "\n",
    "  actual = y_test\n",
    "\n",
    "  fpr, tpr, thresholds = metrics.roc_curve(actual, pred)\n",
    "\n",
    "  score = metrics.auc(fpr, tpr)\n",
    "\n",
    "  print('AUC : ',score)\n",
    "  print('Accuracy : ',model.score(X_test,y_test))\n",
    "\n",
    "  print(\"Label Completed\")\n"
   ]
  },
  {
   "cell_type": "code",
   "execution_count": null,
   "metadata": {
    "colab": {
     "base_uri": "https://localhost:8080/"
    },
    "id": "pCcsy7FyGGhj",
    "outputId": "2ba0e078-4c1c-43f5-893f-53ba99c144e6"
   },
   "outputs": [
    {
     "name": "stdout",
     "output_type": "stream",
     "text": [
      "Started Testing for validation Label - 1.1\n",
      "AUC :  0.8116091578899568\n",
      "Accuracy :  0.9612208045942986\n",
      "Label validation testing Completed\n",
      "Started Testing for validation Label - 2.1\n",
      "AUC :  0.5162989995079548\n",
      "Accuracy :  0.9937686865397709\n",
      "Label validation testing Completed\n",
      "Started Testing for validation Label - 3.1\n",
      "AUC :  0.9106374082448044\n",
      "Accuracy :  0.9829341937775673\n",
      "Label validation testing Completed\n",
      "Started Testing for validation Label - 4.1\n",
      "AUC :  0.49957070108953106\n",
      "Accuracy :  0.9989935170658062\n",
      "Label validation testing Completed\n",
      "Started Testing for validation Label - 5.1\n",
      "AUC :  0.8683194281569482\n",
      "Accuracy :  0.9350966519641218\n",
      "Label validation testing Completed\n",
      "Started Testing for validation Label - 6.1\n",
      "AUC :  0.5057415642279852\n",
      "Accuracy :  0.9984754743790888\n",
      "Label validation testing Completed\n",
      "Started Testing for validation Label - 7.1\n",
      "AUC :  0.7108538485878112\n",
      "Accuracy :  0.9244989787158462\n",
      "Label validation testing Completed\n",
      "Started Testing for validation Label - 8.1\n",
      "AUC :  0.597452493446095\n",
      "Accuracy :  0.9943755365442113\n",
      "Label validation testing Completed\n",
      "Started Testing for validation Label - 9.1\n",
      "AUC :  0.7994841591324939\n",
      "Accuracy :  0.8945413102039608\n",
      "Label validation testing Completed\n",
      "Started Testing for validation Label - 10.1\n",
      "AUC :  0.5078185132469015\n",
      "Accuracy :  0.9961960865575323\n",
      "Label validation testing Completed\n",
      "Started Testing for validation Label - 11.1\n",
      "AUC :  0.8477184555610059\n",
      "Accuracy :  0.8833959918297267\n",
      "Label validation testing Completed\n",
      "Started Testing for validation Label - 12.1\n",
      "AUC :  0.49885802423361564\n",
      "Accuracy :  0.9957224475296764\n",
      "Label validation testing Completed\n",
      "Started Testing for validation Label - 13.1\n",
      "AUC :  0.8440156650557115\n",
      "Accuracy :  0.8539267635653178\n",
      "Label validation testing Completed\n",
      "Started Testing for validation Label - 14.1\n",
      "AUC :  0.540254623943905\n",
      "Accuracy :  0.9483585447440869\n",
      "Label validation testing Completed\n",
      "Started Testing for validation Label - 15.1\n",
      "AUC :  0.5174179586975479\n",
      "Accuracy :  0.993531867025843\n",
      "Label validation testing Completed\n",
      "Started Testing for validation Label - 16.1\n",
      "AUC :  0.5626651863537644\n",
      "Accuracy :  0.9961220804594298\n",
      "Label validation testing Completed\n",
      "Started Testing for validation Label - 17.1\n",
      "AUC :  0.9238336136429083\n",
      "Accuracy :  0.9566028240727036\n",
      "Label validation testing Completed\n",
      "Started Testing for validation Label - 18.1\n",
      "AUC :  0.4965655070318283\n",
      "Accuracy :  0.9929546194606436\n",
      "Label validation testing Completed\n",
      "Started Testing for validation Label - 19.1\n",
      "AUC :  0.8911184541630526\n",
      "Accuracy :  0.8789556259435778\n",
      "Label validation testing Completed\n",
      "Started Testing for validation Label - 20.1\n",
      "AUC :  0.5\n",
      "Accuracy :  0.999881590243036\n",
      "Label validation testing Completed\n",
      "Started Testing for validation Label - 21.1\n",
      "AUC :  0.8989408660270487\n",
      "Accuracy :  0.93682839465972\n",
      "Label validation testing Completed\n",
      "Started Testing for validation Label - 22.1\n",
      "AUC :  0.5340407411650714\n",
      "Accuracy :  0.9966845268050087\n",
      "Label validation testing Completed\n"
     ]
    }
   ],
   "source": [
    "targets = col[-22:]\n",
    "for target in targets:\n",
    "\n",
    "  print(\"Started Testing for validation Label -\",target)\n",
    "\n",
    "  X_train, X_test, y_train, y_test = train_test_split(x_train[feat_col],x_train[target],test_size=0.99)\n",
    "\n",
    "  model = loadModel(int(float(target)))\n",
    "\n",
    "  pred = model.predict(X_test)\n",
    "\n",
    "  actual = y_test\n",
    "\n",
    "  fpr, tpr, thresholds = metrics.roc_curve(actual, pred)\n",
    "\n",
    "  score = metrics.auc(fpr, tpr)\n",
    "\n",
    "  print('AUC : ',score)\n",
    "  print('Accuracy : ',model.score(X_test,y_test))\n",
    "\n",
    "  print(\"Label validation testing Completed\")\n"
   ]
  },
  {
   "cell_type": "code",
   "execution_count": null,
   "metadata": {
    "id": "c3WUFb1nC5DB"
   },
   "outputs": [],
   "source": [
    "def matches(t):\n",
    "  c1 = 0\n",
    "  c2 = 0\n",
    "  for i in range(0,len(t)-1,2):\n",
    "    if(t[i]==t[i+1]):\n",
    "      c1+=1\n",
    "    else:\n",
    "      c2+=1\n",
    "  print('Matched:\\t',c1,'\\nNot Matched:\\t',c2)"
   ]
  },
  {
   "cell_type": "code",
   "execution_count": null,
   "metadata": {
    "id": "rR3JEBweC6Hp"
   },
   "outputs": [],
   "source": [
    "def dropHalf(t):\n",
    "  myList = []\n",
    "  for i in range(0,len(t)-1,2):\n",
    "    myList.append(t[i])\n",
    "  return myList"
   ]
  },
  {
   "cell_type": "code",
   "execution_count": null,
   "metadata": {
    "id": "Hv_p96N2gzjN"
   },
   "outputs": [],
   "source": [
    "models = []\n",
    "\n",
    "for i in range(1,23):\n",
    "  model = loadModel(i)\n",
    "  models.append(model)"
   ]
  },
  {
   "cell_type": "code",
   "execution_count": null,
   "metadata": {
    "colab": {
     "base_uri": "https://localhost:8080/"
    },
    "id": "JRD5zEzFCkoG",
    "outputId": "afe3b785-1f99-4b52-f18a-a1f2a852d311"
   },
   "outputs": [
    {
     "name": "stdout",
     "output_type": "stream",
     "text": [
      "Working with Model-1\n",
      "Matched:\t 25236 \n",
      "Not Matched:\t 2090\n",
      "Completed Model 1\n",
      "Working with Model-2\n",
      "Matched:\t 27021 \n",
      "Not Matched:\t 305\n",
      "Completed Model 2\n",
      "Working with Model-3\n",
      "Matched:\t 26656 \n",
      "Not Matched:\t 670\n",
      "Completed Model 3\n",
      "Working with Model-4\n",
      "Matched:\t 27253 \n",
      "Not Matched:\t 73\n",
      "Completed Model 4\n",
      "Working with Model-5\n",
      "Matched:\t 26386 \n",
      "Not Matched:\t 940\n",
      "Completed Model 5\n",
      "Working with Model-6\n",
      "Matched:\t 27315 \n",
      "Not Matched:\t 11\n",
      "Completed Model 6\n",
      "Working with Model-7\n",
      "Matched:\t 25421 \n",
      "Not Matched:\t 1905\n",
      "Completed Model 7\n",
      "Working with Model-8\n",
      "Matched:\t 27140 \n",
      "Not Matched:\t 186\n",
      "Completed Model 8\n",
      "Working with Model-9\n",
      "Matched:\t 24484 \n",
      "Not Matched:\t 2842\n",
      "Completed Model 9\n",
      "Working with Model-10\n",
      "Matched:\t 27324 \n",
      "Not Matched:\t 2\n",
      "Completed Model 10\n",
      "Working with Model-11\n",
      "Matched:\t 23409 \n",
      "Not Matched:\t 3917\n",
      "Completed Model 11\n",
      "Working with Model-12\n",
      "Matched:\t 27324 \n",
      "Not Matched:\t 2\n",
      "Completed Model 12\n",
      "Working with Model-13\n",
      "Matched:\t 22928 \n",
      "Not Matched:\t 4398\n",
      "Completed Model 13\n",
      "Working with Model-14\n",
      "Matched:\t 27036 \n",
      "Not Matched:\t 290\n",
      "Completed Model 14\n",
      "Working with Model-15\n",
      "Matched:\t 27229 \n",
      "Not Matched:\t 97\n",
      "Completed Model 15\n",
      "Working with Model-16\n",
      "Matched:\t 26951 \n",
      "Not Matched:\t 375\n",
      "Completed Model 16\n",
      "Working with Model-17\n",
      "Matched:\t 24890 \n",
      "Not Matched:\t 2436\n",
      "Completed Model 17\n",
      "Working with Model-18\n",
      "Matched:\t 27246 \n",
      "Not Matched:\t 80\n",
      "Completed Model 18\n",
      "Working with Model-19\n",
      "Matched:\t 21523 \n",
      "Not Matched:\t 5803\n",
      "Completed Model 19\n",
      "Working with Model-20\n",
      "Matched:\t 27326 \n",
      "Not Matched:\t 0\n",
      "Completed Model 20\n",
      "Working with Model-21\n",
      "Matched:\t 24313 \n",
      "Not Matched:\t 3013\n",
      "Completed Model 21\n",
      "Working with Model-22\n",
      "Matched:\t 27077 \n",
      "Not Matched:\t 249\n",
      "Completed Model 22\n"
     ]
    }
   ],
   "source": [
    "pred = []\n",
    "i = 1\n",
    "for model in models:\n",
    "  print(\"Working with Model-\"+str(i))\n",
    "  t = model.predict(x_train[feat_col])\n",
    "  matches(t)\n",
    "  t = dropHalf(t)\n",
    "  pred.append(t)\n",
    "  print(\"Completed Model\",i)\n",
    "  i+=1"
   ]
  },
  {
   "cell_type": "code",
   "execution_count": null,
   "metadata": {
    "colab": {
     "base_uri": "https://localhost:8080/"
    },
    "id": "A_H1SuAlDi2U",
    "outputId": "84597eee-c305-4cf6-bc82-3e996f91fd88"
   },
   "outputs": [
    {
     "data": {
      "text/plain": [
       "(27326, 22)"
      ]
     },
     "execution_count": 43,
     "metadata": {},
     "output_type": "execute_result"
    }
   ],
   "source": [
    "len(pred[0]), len(pred)"
   ]
  },
  {
   "cell_type": "code",
   "execution_count": null,
   "metadata": {
    "id": "Y-vqPR5VD7sT"
   },
   "outputs": [],
   "source": [
    "# np.save('/content/drive/MyDrive/Course Projects/Project DMA/Data/Prediction-Output/Decision-tree/x_train_full-with-10,000/test.npy',pred)"
   ]
  },
  {
   "cell_type": "code",
   "execution_count": null,
   "metadata": {
    "colab": {
     "base_uri": "https://localhost:8080/"
    },
    "id": "3NtcxYGfEXXC",
    "outputId": "41f3d547-00d5-4196-c6a6-6e78e1376df9"
   },
   "outputs": [
    {
     "data": {
      "text/plain": [
       "(27326, 22)"
      ]
     },
     "execution_count": 48,
     "metadata": {},
     "output_type": "execute_result"
    }
   ],
   "source": [
    "label_pred = np.load('/content/drive/MyDrive/Course Projects/Project DMA/Data/Prediction-Output/Decision-tree/x_train_full-with-10,000/test.npy')\n",
    "label_pred.shape"
   ]
  },
  {
   "cell_type": "code",
   "execution_count": null,
   "metadata": {
    "colab": {
     "base_uri": "https://localhost:8080/"
    },
    "id": "SB6me98DEn3m",
    "outputId": "61eeef71-d292-4799-efa4-8c455f154a5a"
   },
   "outputs": [
    {
     "data": {
      "text/plain": [
       "(27326, 22)"
      ]
     },
     "execution_count": 46,
     "metadata": {},
     "output_type": "execute_result"
    }
   ],
   "source": [
    "label_pred = label_pred.transpose()\n",
    "label_pred.shape"
   ]
  },
  {
   "cell_type": "code",
   "execution_count": null,
   "metadata": {
    "id": "k6nofvuXE7XC"
   },
   "outputs": [],
   "source": [
    "# np.save('/content/drive/MyDrive/Course Projects/Project DMA/Data/Prediction-Output/Decision-tree/x_train_full-with-10,000/test.npy',label_pred)"
   ]
  },
  {
   "cell_type": "markdown",
   "metadata": {
    "id": "aICfI55fqzcm"
   },
   "source": [
    "## Model - 4"
   ]
  },
  {
   "cell_type": "code",
   "execution_count": null,
   "metadata": {
    "id": "w4IzyNggq2KH"
   },
   "outputs": [],
   "source": [
    "import tensorflow as tf\n",
    "import numpy as np\n",
    "import pandas as pd\n",
    "from math import exp\n",
    "import time\n",
    "from sklearn import preprocessing\n",
    "from sklearn.model_selection import train_test_split\n",
    "from tensorflow import keras\n",
    "from tensorflow.keras import layers, losses\n",
    "from tensorflow.keras.models import Model\n",
    "from tensorflow.keras.layers import Input, Dense, Lambda, Layer, Dropout\n",
    "from tensorflow.keras.initializers import Constant\n",
    "from tensorflow.keras.models import Model\n",
    "from tensorflow.keras import backend as K\n",
    "import pytz\n",
    "from datetime import datetime\n",
    "import os\n",
    "import csv\n",
    "import sys\n",
    "from scipy.stats import mode\n",
    "import matplotlib.pyplot as plt"
   ]
  },
  {
   "cell_type": "code",
   "execution_count": null,
   "metadata": {
    "id": "pJuCDHRbrN7J"
   },
   "outputs": [],
   "source": [
    "# Parameters\n",
    "layers = [256,128,64]\n",
    "\n",
    "n_layer = len(layers)\n",
    "dff = 128\n",
    "dropout_rate = 0.0\n",
    "model_name = 'LSTM' + str(layers)\n",
    "\n",
    "earlystop_callback = tf.keras.callbacks.EarlyStopping(\n",
    "  monitor='val_loss', min_delta=0.0001,\n",
    "  patience=100,restore_best_weights=True)\n",
    "\n",
    "reg_kernal, reg_activity = 1e-4,1e-4\n",
    "kernel_regularizer=tf.keras.regularizers.l2(reg_kernal)\n",
    "activity_regularizer=tf.keras.regularizers.l2(reg_activity)\n",
    "\n",
    "activity_regularizer = None\n",
    "lr = 0.005\n",
    "\n",
    "epochs = 1000\n",
    "batch_size = 2048\n",
    "model_name"
   ]
  },
  {
   "cell_type": "code",
   "execution_count": null,
   "metadata": {
    "id": "gIe8TsZBrjym"
   },
   "outputs": [],
   "source": [
    "experiment = 'LSTM'\n",
    "\n",
    "X_train = np.load('/content/drive/MyDrive/Course Projects/Project DMA/Data/Input/X_train.npy')\n",
    "X_val = np.load('/content/drive/MyDrive/Course Projects/Project DMA/Data/Input/X_val.npy')\n",
    "X_test = np.load('/content/drive/MyDrive/Course Projects/Project DMA/Data/Input/X_test.npy')\n",
    "\n",
    "label_train = np.load('/content/drive/MyDrive/Course Projects/Project DMA/Data/Output/label_train.npy')\n",
    "label_val = np.load('/content/drive/MyDrive/Course Projects/Project DMA/Data/Output/label_val.npy')\n",
    "label_test = np.load('/content/drive/MyDrive/Course Projects/Project DMA/Data/Prediction-Output/Decision-tree/x_train_full-with-10,000/test.npy')\n",
    "\n",
    "label_cols = np.array(range(label_train.shape[1]//2))\n",
    "\n",
    "\n",
    "X_train = tf.convert_to_tensor(X_train, dtype=tf.float32)\n",
    "X_val = tf.convert_to_tensor(X_val, dtype=tf.float32)\n",
    "X_test = tf.convert_to_tensor(X_test, dtype=tf.float32)\n",
    "label_train = tf.convert_to_tensor(label_train, dtype=tf.float32)\n",
    "label_val = tf.convert_to_tensor(label_val, dtype=tf.float32)\n",
    "label_test = tf.convert_to_tensor(label_test, dtype=tf.float32)"
   ]
  },
  {
   "cell_type": "code",
   "execution_count": null,
   "metadata": {
    "id": "uNlNXtkCrxo7"
   },
   "outputs": [],
   "source": [
    "print(X_train.shape, X_val.shape, X_test.shape)\n",
    "print(label_train.shape, label_val.shape, label_test.shape)"
   ]
  },
  {
   "cell_type": "code",
   "execution_count": null,
   "metadata": {
    "id": "uZzfEMrZr0Gn"
   },
   "outputs": [],
   "source": [
    "# Assigning weights for Labels \n",
    "class_weight = np.array([label_train.shape[0]/label_train.shape[1]/label_train.numpy()[:,i].sum() for i in range(label_train.shape[1])])\n",
    "class_weight"
   ]
  },
  {
   "cell_type": "code",
   "execution_count": null,
   "metadata": {
    "id": "fKOmo-krr3z-"
   },
   "outputs": [],
   "source": [
    "# Loss function calculates loss while prediction\n",
    "def loss_func(w):\n",
    "    def inner_loss(y,y_pred):\n",
    "        loss = 0\n",
    "        weights = w\n",
    "        \n",
    "        for i in range(len(weights)//2):\n",
    "            \n",
    "            y_i = y[:,2*i:2*i+2]\n",
    "            y_pred_i = y_pred[:,2*i:2*i+2]\n",
    "            w_i = weights[2*i:2*i+2]\n",
    "            y_pred_i = tf.nn.softmax(y_pred_i,axis=1)\n",
    "            loss_category = -tf.reduce_mean(y_i*tf.math.log(tf.clip_by_value(y_pred_i,1e-10,1.0)),axis=0)\n",
    "            loss_i = tf.reduce_sum(loss_category*w_i)\n",
    "            \n",
    "            loss += loss_i\n",
    "\n",
    "        return loss\n",
    "    return inner_loss\n",
    "\n",
    "\n",
    "class CustomMultiLossLayer(Layer):\n",
    "    def __init__(self, nb_outputs, **kwargs):\n",
    "        self.nb_outputs = nb_outputs \n",
    "        self.is_placeholder = True\n",
    "        super(CustomMultiLossLayer, self).__init__(**kwargs)\n",
    "        \n",
    "    def build(self, input_shape=None):\n",
    "\n",
    "        self.log_vars = []\n",
    "        for i in range(self.nb_outputs):\n",
    "            self.log_vars += [self.add_weight(name='log_var' + str(i), shape=(1,),\n",
    "                                              initializer=Constant(0.), trainable=variance_on)]\n",
    "        super(CustomMultiLossLayer, self).build(input_shape)\n",
    "\n",
    "\n",
    "    def get_config(self):\n",
    "\n",
    "        config = super().get_config().copy()\n",
    "        config.update({\n",
    "            'vocab_size': self.vocab_size,\n",
    "            'num_layers': self.num_layers,\n",
    "            'units': self.units,\n",
    "            'd_model': self.d_model,\n",
    "            'num_heads': self.num_heads,\n",
    "            'dropout': self.dropout,\n",
    "        })\n",
    "        return config\n",
    "\n",
    "    def from_config(cls, config):\n",
    "        return cls(**config)\n",
    "\n",
    "\n",
    "    def multi_loss(self, y_true, y_pred, weights):\n",
    "        loss = 0        \n",
    "        for i in range(self.nb_outputs//2):\n",
    "            \n",
    "            y_i = y_true[:,2*i:2*i+2]\n",
    "            y_pred_i = y_pred[:,2*i:2*i+2]\n",
    "            w_i = weights[2*i:2*i+2]\n",
    "            y_pred_i = tf.nn.softmax(y_pred_i,axis=1)\n",
    "            loss_category = -tf.reduce_mean(y_i*tf.math.log(tf.clip_by_value(y_pred_i,1e-10,1.0)),axis=0)\n",
    "            loss_category*=w_i\n",
    "            vw = self.log_vars[2*i:2*i+2]\n",
    "            p1, p2 = K.exp(-vw[0][0]*2), K.exp(-vw[1][0]*2)\n",
    "            loss_i = p1*loss_category[0] + vw[0][0] + p2*loss_category[1] + vw[1][0]\n",
    "            loss += loss_i\n",
    "        \n",
    "        return loss\n",
    "\n",
    "    def call(self, inputs, weights):\n",
    "        y_true = inputs[0]\n",
    "        y_pred = inputs[1]\n",
    "        loss = self.multi_loss(y_true, y_pred, weights)\n",
    "        self.add_loss(loss, inputs=inputs)\n",
    "        return y_pred"
   ]
  },
  {
   "cell_type": "code",
   "execution_count": null,
   "metadata": {
    "id": "pmeOUY31sLuQ"
   },
   "outputs": [],
   "source": [
    "# Training function with activation Sigmoid\n",
    "def get_classifier_model(inp_dim1, inp_dim2, out_dim, weights, dff, rate):\n",
    "    inp = Input(shape=(inp_dim1,inp_dim2))\n",
    "    final_layer = tf.keras.Sequential([tf.keras.layers.Bidirectional(tf.keras.layers.LSTM(dff)),\n",
    "                                       Dense(dff, activation='sigmoid',\n",
    "                                       activity_regularizer=activity_regularizer, kernel_regularizer=kernel_regularizer),\n",
    "                                       tf.keras.layers.Dropout(rate),\n",
    "                                       Dense(dff, activation='sigmoid',\n",
    "                                       activity_regularizer=activity_regularizer, kernel_regularizer=kernel_regularizer),\n",
    "                                       tf.keras.layers.Dropout(rate),\n",
    "                                       tf.keras.layers.Dense(out_dim, activation='sigmoid',\n",
    "                                       activity_regularizer=activity_regularizer, kernel_regularizer=kernel_regularizer)])\n",
    "    y_pred = final_layer(inp)\n",
    "    \n",
    "    y_true = Input(shape=(out_dim,), name='y_true')\n",
    "    out = CustomMultiLossLayer(nb_outputs=out_dim)([y_true, y_pred],weights)\n",
    "    return Model([inp, y_true], out)"
   ]
  },
  {
   "cell_type": "code",
   "execution_count": null,
   "metadata": {
    "id": "4l99XfDLsO6C"
   },
   "outputs": [],
   "source": [
    "# Training Model\n",
    "classifier = get_classifier_model(inp_dim1 = X_train.shape[1],inp_dim2 = X_train.shape[2], out_dim=label_train.shape[1],\n",
    "                                  weights=class_weight, dff=dff, rate=dropout_rate)\n",
    "classifier.compile(loss=None, optimizer=tf.keras.optimizers.Adam(lr=lr))\n",
    "hist = classifier.fit([X_train, label_train],label_train,\n",
    "                    epochs=epochs,\n",
    "                    batch_size = batch_size, \n",
    "                    verbose=0,\n",
    "                    callbacks=[earlystop_callback],\n",
    "                    validation_data=([X_val,label_val], label_val))"
   ]
  },
  {
   "cell_type": "code",
   "execution_count": null,
   "metadata": {
    "id": "k9YbuUJ1sWJs"
   },
   "outputs": [],
   "source": []
  },
  {
   "cell_type": "markdown",
   "metadata": {
    "id": "lpKAlKMkg8qT"
   },
   "source": [
    "# AUC Score"
   ]
  },
  {
   "cell_type": "code",
   "execution_count": null,
   "metadata": {
    "id": "V2wKN_gPg7uJ"
   },
   "outputs": [],
   "source": [
    "import numpy as np\n",
    "import pandas as pd\n",
    "import tensorflow as tf"
   ]
  },
  {
   "cell_type": "code",
   "execution_count": null,
   "metadata": {
    "id": "vqrlZWB9hpNV"
   },
   "outputs": [],
   "source": [
    "label_pred = np.load('/content/drive/MyDrive/Course Projects/Project DMA/Data/Prediction-Output/Decision-tree/x_train_full/train.npy')"
   ]
  },
  {
   "cell_type": "code",
   "execution_count": null,
   "metadata": {
    "id": "wpfngrC3h3TE"
   },
   "outputs": [],
   "source": [
    "label_train = np.load('/content/drive/MyDrive/Course Projects/Project DMA/Data/Output/label_train.npy')"
   ]
  },
  {
   "cell_type": "code",
   "execution_count": null,
   "metadata": {
    "id": "T8KyzXVUhGfE"
   },
   "outputs": [],
   "source": [
    "from sklearn.metrics import roc_curve,roc_auc_score\n",
    "import matplotlib.pyplot as plt\n",
    "def plot_roc_cur(fper, tper, title):  \n",
    "    plt.plot(fper, tper, color='orange', label='ROC')\n",
    "    plt.plot([0, 1], [0, 1], color='darkblue', linestyle='--')\n",
    "    plt.xlabel('False Positive Rate')\n",
    "    plt.ylabel('True Positive Rate')\n",
    "    plt.title('ROC-' + title)\n",
    "    plt.legend()\n",
    "    # plt.savefig(plots_folder + 'roc.png')\n",
    "    plt.show()\n",
    "    \n",
    "# label and label_pred both numpy arrays\n",
    "def evaluate(label_pred, label, label_cols=range(11)):\n",
    "    thresh = 0.5\n",
    "    label_true = label\n",
    "    \n",
    "    # normalize so that pred_0 + pred_1 = 1\n",
    "    for i in range(label_true.shape[1]//2):\n",
    "        label_pred[:,2*i:2*i+2] = tf.nn.softmax(label_pred[:,2*i:2*i+2],axis=1)\n",
    "        \n",
    "    prob = label_pred*label_true\n",
    "    \n",
    "    print(': the overall accuracy is:', sum(sum(prob>thresh))/sum(sum(label>0)))\n",
    "    print(': the overall recall is:', sum(sum(prob>thresh)[1::2])/sum(sum(label>0)[1::2]))\n",
    "    \n",
    "    meas_steps = label_cols\n",
    "    result = pd.DataFrame(index=meas_steps, columns = ['tp','tn','fn','fp','tpr','fpr','min_dis', 'auc'])\n",
    "    for i in range(len(meas_steps)):\n",
    "        neg = prob[:,2*i]\n",
    "        pos = prob[:,2*i+1]\n",
    "\n",
    "        pos = pos[pos!=0]\n",
    "        neg = neg[neg!=0]\n",
    "\n",
    "        tp = sum(pos>thresh)\n",
    "        fn = sum(pos<thresh)\n",
    "        tn = sum(neg>thresh)\n",
    "        fp = sum(neg<thresh)\n",
    "        tpr = tp/(tp+fn+1e-9)\n",
    "        fpr = fp/(fp+tn+1e-9)\n",
    "\n",
    "        y_prob = np.append(pos, neg)\n",
    "        y_true = np.append([1]*len(pos), [0]*len(neg))\n",
    "        if len(pos) and len(neg):\n",
    "            fper, tper, thresholds = roc_curve(np.append([1]*len(pos), [0]*len(neg)),np.append(pos, 1-neg))\n",
    "            auc = roc_auc_score(np.append([1]*len(pos), [0]*len(neg)),np.append(pos, 1-neg))\n",
    "            min_dis = np.sqrt(fper**2 + (1-tper)**2).min()\n",
    "        else:\n",
    "            min_dis = None\n",
    "            auc = None\n",
    "        result.iloc[i] = [tp,tn,fn,fp,tpr,fpr,min_dis,auc]\n",
    "        \n",
    "        plot_roc_cur(fper, tper, str(meas_steps[i]))\n",
    "    \n",
    "    total_sample = sum(sum(result[['tp', 'tn', 'fp', 'fn']].values))\n",
    "    # final score\n",
    "    result['score'] = (result.tp + result.tn + result.fp + result.fn)*result.auc/total_sample\n",
    "    display(result)\n",
    "    print(sum(result.score))"
   ]
  },
  {
   "cell_type": "code",
   "execution_count": null,
   "metadata": {
    "colab": {
     "base_uri": "https://localhost:8080/",
     "height": 1000
    },
    "id": "N2eNzsEzhMg7",
    "outputId": "dba49c08-5f99-424a-ceba-6cd400e333ab"
   },
   "outputs": [
    {
     "name": "stdout",
     "output_type": "stream",
     "text": [
      ": the overall accuracy is: 0.6476229186522398\n",
      ": the overall recall is: 0.44649532710280376\n"
     ]
    },
    {
     "data": {
      "image/png": "[encoded data removed]",
      "text/plain": [
       "<Figure size 432x288 with 1 Axes>"
      ]
     },
     "metadata": {
      "needs_background": "light"
     },
     "output_type": "display_data"
    },
    {
     "data": {
      "image/png": "[encoded data removed]",
      "text/plain": [
       "<Figure size 432x288 with 1 Axes>"
      ]
     },
     "metadata": {
      "needs_background": "light"
     },
     "output_type": "display_data"
    },
    {
     "data": {
      "image/png": "[encoded data removed]",
      "text/plain": [
       "<Figure size 432x288 with 1 Axes>"
      ]
     },
     "metadata": {
      "needs_background": "light"
     },
     "output_type": "display_data"
    },
    {
     "data": {
      "image/png": "[encoded data removed]",
      "text/plain": [
       "<Figure size 432x288 with 1 Axes>"
      ]
     },
     "metadata": {
      "needs_background": "light"
     },
     "output_type": "display_data"
    },
    {
     "data": {
      "image/png": "[encoded data removed]",
      "text/plain": [
       "<Figure size 432x288 with 1 Axes>"
      ]
     },
     "metadata": {
      "needs_background": "light"
     },
     "output_type": "display_data"
    },
    {
     "data": {
      "image/png": "[encoded data removed]",
      "text/plain": [
       "<Figure size 432x288 with 1 Axes>"
      ]
     },
     "metadata": {
      "needs_background": "light"
     },
     "output_type": "display_data"
    },
    {
     "data": {
      "image/png": "[encoded data removed]",
      "text/plain": [
       "<Figure size 432x288 with 1 Axes>"
      ]
     },
     "metadata": {
      "needs_background": "light"
     },
     "output_type": "display_data"
    },
    {
     "data": {
      "image/png": "[encoded data removed]",
      "text/plain": [
       "<Figure size 432x288 with 1 Axes>"
      ]
     },
     "metadata": {
      "needs_background": "light"
     },
     "output_type": "display_data"
    },
    {
     "data": {
      "image/png": "[encoded data removed]",
      "text/plain": [
       "<Figure size 432x288 with 1 Axes>"
      ]
     },
     "metadata": {
      "needs_background": "light"
     },
     "output_type": "display_data"
    },
    {
     "data": {
      "image/png": "[encoded data removed]",
      "text/plain": [
       "<Figure size 432x288 with 1 Axes>"
      ]
     },
     "metadata": {
      "needs_background": "light"
     },
     "output_type": "display_data"
    },
    {
     "data": {
      "image/png": "[encoded data removed]",
      "text/plain": [
       "<Figure size 432x288 with 1 Axes>"
      ]
     },
     "metadata": {
      "needs_background": "light"
     },
     "output_type": "display_data"
    },
    {
     "data": {
      "text/html": [
       "<div>\n",
       "<style scoped>\n",
       "    .dataframe tbody tr th:only-of-type {\n",
       "        vertical-align: middle;\n",
       "    }\n",
       "\n",
       "    .dataframe tbody tr th {\n",
       "        vertical-align: top;\n",
       "    }\n",
       "\n",
       "    .dataframe thead th {\n",
       "        text-align: right;\n",
       "    }\n",
       "</style>\n",
       "<table border=\"1\" class=\"dataframe\">\n",
       "  <thead>\n",
       "    <tr style=\"text-align: right;\">\n",
       "      <th></th>\n",
       "      <th>tp</th>\n",
       "      <th>tn</th>\n",
       "      <th>fn</th>\n",
       "      <th>fp</th>\n",
       "      <th>tpr</th>\n",
       "      <th>fpr</th>\n",
       "      <th>min_dis</th>\n",
       "      <th>auc</th>\n",
       "      <th>score</th>\n",
       "    </tr>\n",
       "  </thead>\n",
       "  <tbody>\n",
       "    <tr>\n",
       "      <th>0</th>\n",
       "      <td>244</td>\n",
       "      <td>5236</td>\n",
       "      <td>3</td>\n",
       "      <td>1</td>\n",
       "      <td>0.987854</td>\n",
       "      <td>0.000190949</td>\n",
       "      <td>0.102941</td>\n",
       "      <td>0.9877</td>\n",
       "      <td>0.0233136</td>\n",
       "    </tr>\n",
       "    <tr>\n",
       "      <th>1</th>\n",
       "      <td>26</td>\n",
       "      <td>8583</td>\n",
       "      <td>1</td>\n",
       "      <td>0</td>\n",
       "      <td>0.962963</td>\n",
       "      <td>0</td>\n",
       "      <td>0.168475</td>\n",
       "      <td>0.967271</td>\n",
       "      <td>0.0358458</td>\n",
       "    </tr>\n",
       "    <tr>\n",
       "      <th>2</th>\n",
       "      <td>100</td>\n",
       "      <td>24363</td>\n",
       "      <td>19</td>\n",
       "      <td>26</td>\n",
       "      <td>0.840336</td>\n",
       "      <td>0.00106605</td>\n",
       "      <td>0.443566</td>\n",
       "      <td>0.843908</td>\n",
       "      <td>0.0890205</td>\n",
       "    </tr>\n",
       "    <tr>\n",
       "      <th>3</th>\n",
       "      <td>38</td>\n",
       "      <td>4339</td>\n",
       "      <td>3</td>\n",
       "      <td>2</td>\n",
       "      <td>0.926829</td>\n",
       "      <td>0.000460723</td>\n",
       "      <td>0.610015</td>\n",
       "      <td>0.771497</td>\n",
       "      <td>0.014551</td>\n",
       "    </tr>\n",
       "    <tr>\n",
       "      <th>4</th>\n",
       "      <td>161</td>\n",
       "      <td>15938</td>\n",
       "      <td>32</td>\n",
       "      <td>26</td>\n",
       "      <td>0.834197</td>\n",
       "      <td>0.00162866</td>\n",
       "      <td>0.519406</td>\n",
       "      <td>0.801926</td>\n",
       "      <td>0.0557677</td>\n",
       "    </tr>\n",
       "    <tr>\n",
       "      <th>5</th>\n",
       "      <td>199</td>\n",
       "      <td>38077</td>\n",
       "      <td>158</td>\n",
       "      <td>58</td>\n",
       "      <td>0.557423</td>\n",
       "      <td>0.00152091</td>\n",
       "      <td>0.462361</td>\n",
       "      <td>0.74252</td>\n",
       "      <td>0.123017</td>\n",
       "    </tr>\n",
       "    <tr>\n",
       "      <th>6</th>\n",
       "      <td>734</td>\n",
       "      <td>80109</td>\n",
       "      <td>424</td>\n",
       "      <td>513</td>\n",
       "      <td>0.633851</td>\n",
       "      <td>0.00636303</td>\n",
       "      <td>0.403367</td>\n",
       "      <td>0.783586</td>\n",
       "      <td>0.275817</td>\n",
       "    </tr>\n",
       "    <tr>\n",
       "      <th>7</th>\n",
       "      <td>158</td>\n",
       "      <td>671</td>\n",
       "      <td>0</td>\n",
       "      <td>4</td>\n",
       "      <td>1</td>\n",
       "      <td>0.00592593</td>\n",
       "      <td>0.616133</td>\n",
       "      <td>0.800664</td>\n",
       "      <td>0.00287067</td>\n",
       "    </tr>\n",
       "    <tr>\n",
       "      <th>8</th>\n",
       "      <td>59</td>\n",
       "      <td>18361</td>\n",
       "      <td>3</td>\n",
       "      <td>1</td>\n",
       "      <td>0.951613</td>\n",
       "      <td>5.44603e-05</td>\n",
       "      <td>0.184374</td>\n",
       "      <td>0.954117</td>\n",
       "      <td>0.0756611</td>\n",
       "    </tr>\n",
       "    <tr>\n",
       "      <th>9</th>\n",
       "      <td>35</td>\n",
       "      <td>3509</td>\n",
       "      <td>0</td>\n",
       "      <td>1</td>\n",
       "      <td>1</td>\n",
       "      <td>0.0002849</td>\n",
       "      <td>0.270833</td>\n",
       "      <td>0.924867</td>\n",
       "      <td>0.0141118</td>\n",
       "    </tr>\n",
       "    <tr>\n",
       "      <th>10</th>\n",
       "      <td>157</td>\n",
       "      <td>29936</td>\n",
       "      <td>7</td>\n",
       "      <td>19</td>\n",
       "      <td>0.957317</td>\n",
       "      <td>0.000634285</td>\n",
       "      <td>0.168372</td>\n",
       "      <td>0.958804</td>\n",
       "      <td>0.124296</td>\n",
       "    </tr>\n",
       "  </tbody>\n",
       "</table>\n",
       "</div>"
      ],
      "text/plain": [
       "     tp     tn   fn   fp       tpr          fpr   min_dis       auc       score\n",
       "0   244   5236    3    1  0.987854  0.000190949  0.102941    0.9877   0.0233136\n",
       "1    26   8583    1    0  0.962963            0  0.168475  0.967271   0.0358458\n",
       "2   100  24363   19   26  0.840336   0.00106605  0.443566  0.843908   0.0890205\n",
       "3    38   4339    3    2  0.926829  0.000460723  0.610015  0.771497    0.014551\n",
       "4   161  15938   32   26  0.834197   0.00162866  0.519406  0.801926   0.0557677\n",
       "5   199  38077  158   58  0.557423   0.00152091  0.462361   0.74252    0.123017\n",
       "6   734  80109  424  513  0.633851   0.00636303  0.403367  0.783586    0.275817\n",
       "7   158    671    0    4         1   0.00592593  0.616133  0.800664  0.00287067\n",
       "8    59  18361    3    1  0.951613  5.44603e-05  0.184374  0.954117   0.0756611\n",
       "9    35   3509    0    1         1    0.0002849  0.270833  0.924867   0.0141118\n",
       "10  157  29936    7   19  0.957317  0.000634285  0.168372  0.958804    0.124296"
      ]
     },
     "metadata": {},
     "output_type": "display_data"
    },
    {
     "name": "stdout",
     "output_type": "stream",
     "text": [
      "0.8342724375100042\n"
     ]
    }
   ],
   "source": [
    "evaluate(label_pred, label_train)"
   ]
  },
  {
   "cell_type": "code",
   "execution_count": null,
   "metadata": {
    "colab": {
     "base_uri": "https://localhost:8080/",
     "height": 1000
    },
    "id": "V8XuKVYbiE-M",
    "outputId": "46d0d325-eba9-47ef-fb90-b11841894129"
   },
   "outputs": [
    {
     "name": "stdout",
     "output_type": "stream",
     "text": [
      ": the overall accuracy is: 0.9978971048513302\n",
      ": the overall recall is: 0.9407407407407408\n"
     ]
    },
    {
     "data": {
      "image/png": "[encoded data removed]",
      "text/plain": [
       "<Figure size 432x288 with 1 Axes>"
      ]
     },
     "metadata": {
      "needs_background": "light"
     },
     "output_type": "display_data"
    },
    {
     "data": {
      "image/png": "[encoded data removed]",
      "text/plain": [
       "<Figure size 432x288 with 1 Axes>"
      ]
     },
     "metadata": {
      "needs_background": "light"
     },
     "output_type": "display_data"
    },
    {
     "data": {
      "image/png": "[encoded data removed]",
      "text/plain": [
       "<Figure size 432x288 with 1 Axes>"
      ]
     },
     "metadata": {
      "needs_background": "light"
     },
     "output_type": "display_data"
    },
    {
     "data": {
      "image/png": "[encoded data removed]",
      "text/plain": [
       "<Figure size 432x288 with 1 Axes>"
      ]
     },
     "metadata": {
      "needs_background": "light"
     },
     "output_type": "display_data"
    },
    {
     "data": {
      "image/png": "[encoded data removed]",
      "text/plain": [
       "<Figure size 432x288 with 1 Axes>"
      ]
     },
     "metadata": {
      "needs_background": "light"
     },
     "output_type": "display_data"
    },
    {
     "data": {
      "image/png": "[encoded data removed]",
      "text/plain": [
       "<Figure size 432x288 with 1 Axes>"
      ]
     },
     "metadata": {
      "needs_background": "light"
     },
     "output_type": "display_data"
    },
    {
     "data": {
      "image/png": "[encoded data removed]",
      "text/plain": [
       "<Figure size 432x288 with 1 Axes>"
      ]
     },
     "metadata": {
      "needs_background": "light"
     },
     "output_type": "display_data"
    },
    {
     "data": {
      "image/png": "[encoded data removed]",
      "text/plain": [
       "<Figure size 432x288 with 1 Axes>"
      ]
     },
     "metadata": {
      "needs_background": "light"
     },
     "output_type": "display_data"
    },
    {
     "data": {
      "image/png": "[encoded data removed]",
      "text/plain": [
       "<Figure size 432x288 with 1 Axes>"
      ]
     },
     "metadata": {
      "needs_background": "light"
     },
     "output_type": "display_data"
    },
    {
     "data": {
      "image/png": "[encoded data removed]",
      "text/plain": [
       "<Figure size 432x288 with 1 Axes>"
      ]
     },
     "metadata": {
      "needs_background": "light"
     },
     "output_type": "display_data"
    },
    {
     "data": {
      "image/png": "[encoded data removed]",
      "text/plain": [
       "<Figure size 432x288 with 1 Axes>"
      ]
     },
     "metadata": {
      "needs_background": "light"
     },
     "output_type": "display_data"
    },
    {
     "data": {
      "text/html": [
       "<div>\n",
       "<style scoped>\n",
       "    .dataframe tbody tr th:only-of-type {\n",
       "        vertical-align: middle;\n",
       "    }\n",
       "\n",
       "    .dataframe tbody tr th {\n",
       "        vertical-align: top;\n",
       "    }\n",
       "\n",
       "    .dataframe thead th {\n",
       "        text-align: right;\n",
       "    }\n",
       "</style>\n",
       "<table border=\"1\" class=\"dataframe\">\n",
       "  <thead>\n",
       "    <tr style=\"text-align: right;\">\n",
       "      <th></th>\n",
       "      <th>tp</th>\n",
       "      <th>tn</th>\n",
       "      <th>fn</th>\n",
       "      <th>fp</th>\n",
       "      <th>tpr</th>\n",
       "      <th>fpr</th>\n",
       "      <th>min_dis</th>\n",
       "      <th>auc</th>\n",
       "      <th>score</th>\n",
       "    </tr>\n",
       "  </thead>\n",
       "  <tbody>\n",
       "    <tr>\n",
       "      <th>0</th>\n",
       "      <td>10</td>\n",
       "      <td>1414</td>\n",
       "      <td>0</td>\n",
       "      <td>0</td>\n",
       "      <td>1</td>\n",
       "      <td>0</td>\n",
       "      <td>0.00211715</td>\n",
       "      <td>0.999756</td>\n",
       "      <td>0.0232554</td>\n",
       "    </tr>\n",
       "    <tr>\n",
       "      <th>1</th>\n",
       "      <td>4</td>\n",
       "      <td>1507</td>\n",
       "      <td>0</td>\n",
       "      <td>0</td>\n",
       "      <td>1</td>\n",
       "      <td>0</td>\n",
       "      <td>0.00132538</td>\n",
       "      <td>0.999867</td>\n",
       "      <td>0.024679</td>\n",
       "    </tr>\n",
       "    <tr>\n",
       "      <th>2</th>\n",
       "      <td>41</td>\n",
       "      <td>7783</td>\n",
       "      <td>0</td>\n",
       "      <td>0</td>\n",
       "      <td>1</td>\n",
       "      <td>0</td>\n",
       "      <td>0.00153945</td>\n",
       "      <td>0.999964</td>\n",
       "      <td>0.127801</td>\n",
       "    </tr>\n",
       "    <tr>\n",
       "      <th>3</th>\n",
       "      <td>19</td>\n",
       "      <td>1590</td>\n",
       "      <td>0</td>\n",
       "      <td>0</td>\n",
       "      <td>1</td>\n",
       "      <td>0</td>\n",
       "      <td>0.00250941</td>\n",
       "      <td>0.999782</td>\n",
       "      <td>0.0262774</td>\n",
       "    </tr>\n",
       "    <tr>\n",
       "      <th>4</th>\n",
       "      <td>84</td>\n",
       "      <td>4270</td>\n",
       "      <td>0</td>\n",
       "      <td>1</td>\n",
       "      <td>1</td>\n",
       "      <td>0.000234137</td>\n",
       "      <td>0.00303526</td>\n",
       "      <td>0.999767</td>\n",
       "      <td>0.0711226</td>\n",
       "    </tr>\n",
       "    <tr>\n",
       "      <th>5</th>\n",
       "      <td>63</td>\n",
       "      <td>11828</td>\n",
       "      <td>0</td>\n",
       "      <td>0</td>\n",
       "      <td>1</td>\n",
       "      <td>0</td>\n",
       "      <td>0.000422547</td>\n",
       "      <td>0.999984</td>\n",
       "      <td>0.194237</td>\n",
       "    </tr>\n",
       "    <tr>\n",
       "      <th>6</th>\n",
       "      <td>464</td>\n",
       "      <td>19638</td>\n",
       "      <td>2</td>\n",
       "      <td>0</td>\n",
       "      <td>0.995708</td>\n",
       "      <td>0</td>\n",
       "      <td>0.0043398</td>\n",
       "      <td>0.997902</td>\n",
       "      <td>0.327711</td>\n",
       "    </tr>\n",
       "    <tr>\n",
       "      <th>7</th>\n",
       "      <td>36</td>\n",
       "      <td>194</td>\n",
       "      <td>0</td>\n",
       "      <td>0</td>\n",
       "      <td>1</td>\n",
       "      <td>0</td>\n",
       "      <td>0.0102041</td>\n",
       "      <td>0.999608</td>\n",
       "      <td>0.00375559</td>\n",
       "    </tr>\n",
       "    <tr>\n",
       "      <th>8</th>\n",
       "      <td>6</td>\n",
       "      <td>4224</td>\n",
       "      <td>0</td>\n",
       "      <td>0</td>\n",
       "      <td>1</td>\n",
       "      <td>0</td>\n",
       "      <td>0</td>\n",
       "      <td>1</td>\n",
       "      <td>0.0690973</td>\n",
       "    </tr>\n",
       "    <tr>\n",
       "      <th>9</th>\n",
       "      <td>3</td>\n",
       "      <td>1787</td>\n",
       "      <td>0</td>\n",
       "      <td>0</td>\n",
       "      <td>1</td>\n",
       "      <td>0</td>\n",
       "      <td>0.000559284</td>\n",
       "      <td>0.99993</td>\n",
       "      <td>0.0292377</td>\n",
       "    </tr>\n",
       "    <tr>\n",
       "      <th>10</th>\n",
       "      <td>32</td>\n",
       "      <td>6218</td>\n",
       "      <td>0</td>\n",
       "      <td>0</td>\n",
       "      <td>1</td>\n",
       "      <td>0</td>\n",
       "      <td>0.00208634</td>\n",
       "      <td>0.999884</td>\n",
       "      <td>0.102082</td>\n",
       "    </tr>\n",
       "  </tbody>\n",
       "</table>\n",
       "</div>"
      ],
      "text/plain": [
       "     tp     tn fn fp       tpr          fpr      min_dis       auc       score\n",
       "0    10   1414  0  0         1            0   0.00211715  0.999756   0.0232554\n",
       "1     4   1507  0  0         1            0   0.00132538  0.999867    0.024679\n",
       "2    41   7783  0  0         1            0   0.00153945  0.999964    0.127801\n",
       "3    19   1590  0  0         1            0   0.00250941  0.999782   0.0262774\n",
       "4    84   4270  0  1         1  0.000234137   0.00303526  0.999767   0.0711226\n",
       "5    63  11828  0  0         1            0  0.000422547  0.999984    0.194237\n",
       "6   464  19638  2  0  0.995708            0    0.0043398  0.997902    0.327711\n",
       "7    36    194  0  0         1            0    0.0102041  0.999608  0.00375559\n",
       "8     6   4224  0  0         1            0            0         1   0.0690973\n",
       "9     3   1787  0  0         1            0  0.000559284   0.99993   0.0292377\n",
       "10   32   6218  0  0         1            0   0.00208634  0.999884    0.102082"
      ]
     },
     "metadata": {},
     "output_type": "display_data"
    },
    {
     "name": "stdout",
     "output_type": "stream",
     "text": [
      "0.9992566317009474\n"
     ]
    }
   ],
   "source": [
    "evaluate(label_pred, label_train)"
   ]
  },
  {
   "cell_type": "code",
   "execution_count": null,
   "metadata": {
    "id": "chInbAFHiXwZ"
   },
   "outputs": [],
   "source": []
  }
 ],
 "metadata": {
  "colab": {
   "name": "DMA_review.ipynb",
   "provenance": []
  },
  "kernelspec": {
   "display_name": "Python 3",
   "language": "python",
   "name": "python3"
  },
  "language_info": {
   "codemirror_mode": {
    "name": "ipython",
    "version": 3
   },
   "file_extension": ".py",
   "mimetype": "text/x-python",
   "name": "python",
   "nbconvert_exporter": "python",
   "pygments_lexer": "ipython3",
   "version": "3.8.8"
  }
 },
 "nbformat": 4,
 "nbformat_minor": 1
}
